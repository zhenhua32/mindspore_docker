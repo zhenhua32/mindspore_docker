{
 "cells": [
  {
   "cell_type": "markdown",
   "metadata": {},
   "source": [
    "# 遇见报错 import langchain => Error : TypeError: issubclass() arg 1 must be a class\n",
    "\n",
    "安装指定的依赖\n",
    "```bash\n",
    "typing-inspect==0.8.0\n",
    "typing_extensions==4.5.0\n",
    "```\n",
    "\n",
    "另一个是 protobuf\n",
    "\n",
    "```bash\n",
    "protobuf==3.20.0\n",
    "```"
   ]
  },
  {
   "cell_type": "code",
   "execution_count": 1,
   "metadata": {},
   "outputs": [
    {
     "name": "stderr",
     "output_type": "stream",
     "text": [
      "c:\\tech\\Anaconda3\\envs\\nlp\\lib\\site-packages\\tqdm\\auto.py:21: TqdmWarning: IProgress not found. Please update jupyter and ipywidgets. See https://ipywidgets.readthedocs.io/en/stable/user_install.html\n",
      "  from .autonotebook import tqdm as notebook_tqdm\n"
     ]
    }
   ],
   "source": [
    "from langchain.llms.huggingface_hub import HuggingFaceHub  # 这个是用于在线模型的\n",
    "from langchain.llms.huggingface_pipeline import HuggingFacePipeline  # 这个是用于本地模型\n",
    "import torch\n",
    "from transformers import AutoModelForCausalLM, AutoTokenizer, pipeline, GenerationConfig\n",
    "from transformers import BitsAndBytesConfig"
   ]
  },
  {
   "cell_type": "code",
   "execution_count": 2,
   "metadata": {},
   "outputs": [
    {
     "name": "stderr",
     "output_type": "stream",
     "text": [
      "A matching Triton is not available, some optimizations will not be enabled.\n",
      "Error caught was: No module named 'triton'\n"
     ]
    },
    {
     "name": "stdout",
     "output_type": "stream",
     "text": [
      "bin c:\\tech\\Anaconda3\\envs\\nlp\\lib\\site-packages\\bitsandbytes\\libbitsandbytes_cuda121.dll\n"
     ]
    },
    {
     "name": "stderr",
     "output_type": "stream",
     "text": [
      "Loading checkpoint shards: 100%|██████████| 3/3 [00:41<00:00, 13.86s/it]"
     ]
    },
    {
     "name": "stdout",
     "output_type": "stream",
     "text": [
      "cuda:0 torch.float16\n"
     ]
    },
    {
     "name": "stderr",
     "output_type": "stream",
     "text": [
      "\n"
     ]
    }
   ],
   "source": [
    "quantization_config = BitsAndBytesConfig(\n",
    "    False,\n",
    "    True,\n",
    "    bnb_4bit_compute_dtype=torch.bfloat16,\n",
    "    bnb_4bit_quant_type=\"nf4\",\n",
    "    bnb_4bit_use_double_quant=True,\n",
    ")\n",
    "\n",
    "model_dir = r\"G:\\code\\pretrain_model_dir\\_modelscope\\baichuan-inc\\Baichuan2-13B-Chat\"\n",
    "tokenizer = AutoTokenizer.from_pretrained(\n",
    "    model_dir, device_map=\"auto\", trust_remote_code=True, torch_dtype=torch.float16\n",
    ")\n",
    "model = AutoModelForCausalLM.from_pretrained(\n",
    "    model_dir,\n",
    "    device_map=\"auto\",\n",
    "    trust_remote_code=True,\n",
    "    torch_dtype=torch.float16,\n",
    "    quantization_config=quantization_config,\n",
    ")\n",
    "model.generation_config = GenerationConfig.from_pretrained(model_dir)\n",
    "\n",
    "print(model.device, model.dtype)"
   ]
  },
  {
   "cell_type": "code",
   "execution_count": 3,
   "metadata": {},
   "outputs": [
    {
     "name": "stdout",
     "output_type": "stream",
     "text": [
      "\"温故而知新\"是一句源自《论语·为政》的古文名言，它意味着通过回顾过去，我们可以更好地理解现在和未来。这句话鼓励我们在学习过程中不断地回顾和反思，以便从中汲取新的知识和经验。\n",
      "\n",
      "\"温故\"指的是回顾过去的知识、经验和教训。通过对过去的深入了解，我们可以更好地理解事物的起源和发展，从而找到解决问题的方法和策略。\n",
      "\n",
      "\"知新\"则是指从过去的经验中吸取新的知识和智慧。这意味着我们要不断地学习和进步，将过去的经验运用到新的情境中，以适应不断变化的世界。\n",
      "\n",
      "总之，\"温故而知新\"是一种积极的学习态度和方法，它强调通过回顾过去来获取新的知识和成长，从而使我们能够更好地面对未来的挑战。\n"
     ]
    }
   ],
   "source": [
    "messages = []\n",
    "messages.append({\"role\": \"user\", \"content\": \"讲解一下“温故而知新”\"})\n",
    "response = model.chat(tokenizer, messages)\n",
    "print(response)"
   ]
  },
  {
   "cell_type": "code",
   "execution_count": 4,
   "metadata": {},
   "outputs": [
    {
     "data": {
      "text/plain": [
       "GenerationConfig {\n",
       "  \"assistant_token_id\": 196,\n",
       "  \"bos_token_id\": 1,\n",
       "  \"do_sample\": true,\n",
       "  \"eos_token_id\": 2,\n",
       "  \"max_new_tokens\": 2048,\n",
       "  \"pad_token_id\": 0,\n",
       "  \"repetition_penalty\": 1.05,\n",
       "  \"temperature\": 0.3,\n",
       "  \"top_k\": 5,\n",
       "  \"top_p\": 0.85,\n",
       "  \"transformers_version\": \"4.32.1\",\n",
       "  \"user_token_id\": 195\n",
       "}"
      ]
     },
     "execution_count": 4,
     "metadata": {},
     "output_type": "execute_result"
    }
   ],
   "source": [
    "model.generation_config"
   ]
  },
  {
   "cell_type": "code",
   "execution_count": 5,
   "metadata": {},
   "outputs": [
    {
     "name": "stdout",
     "output_type": "stream",
     "text": [
      "世说新语是南朝梁代刘义庆所编的一部文学、哲学和道德方面的名著，它收录了魏晋南北朝时期许多名士的轶事隽言。《咏雪》一篇中, 作者通过描绘谢安与他的子侄们谈论下雪的场景以及他们的反应来展示他们各自的性格特点:\n",
      "1. 王子猷(王徽之)性格豪放不羁,“忽忆戴安道”说明他对老朋友非常牵挂; “造门不去”,则表现出他率真任性的一面；“遂反寄家书”又显示了他的机智幽默。这些细节都生动地刻画了一个潇洒倜傥的王徽之形象。\n"
     ]
    }
   ],
   "source": [
    "pred = model.generate(**tokenizer(\"世说新语是\", return_tensors=\"pt\").to('cuda:0'), max_new_tokens=512, repetition_penalty=1.1)\n",
    "print(tokenizer.decode(pred.cpu()[0], skip_special_tokens=True))"
   ]
  },
  {
   "cell_type": "code",
   "execution_count": 6,
   "metadata": {},
   "outputs": [
    {
     "name": "stderr",
     "output_type": "stream",
     "text": [
      "The model 'BaichuanForCausalLM' is not supported for text-generation. Supported models are ['BartForCausalLM', 'BertLMHeadModel', 'BertGenerationDecoder', 'BigBirdForCausalLM', 'BigBirdPegasusForCausalLM', 'BioGptForCausalLM', 'BlenderbotForCausalLM', 'BlenderbotSmallForCausalLM', 'BloomForCausalLM', 'CamembertForCausalLM', 'CodeGenForCausalLM', 'CpmAntForCausalLM', 'CTRLLMHeadModel', 'Data2VecTextForCausalLM', 'ElectraForCausalLM', 'ErnieForCausalLM', 'FalconForCausalLM', 'GitForCausalLM', 'GPT2LMHeadModel', 'GPT2LMHeadModel', 'GPTBigCodeForCausalLM', 'GPTNeoForCausalLM', 'GPTNeoXForCausalLM', 'GPTNeoXJapaneseForCausalLM', 'GPTJForCausalLM', 'LlamaForCausalLM', 'MarianForCausalLM', 'MBartForCausalLM', 'MegaForCausalLM', 'MegatronBertForCausalLM', 'MptForCausalLM', 'MusicgenForCausalLM', 'MvpForCausalLM', 'OpenLlamaForCausalLM', 'OpenAIGPTLMHeadModel', 'OPTForCausalLM', 'PegasusForCausalLM', 'PLBartForCausalLM', 'ProphetNetForCausalLM', 'QDQBertLMHeadModel', 'ReformerModelWithLMHead', 'RemBertForCausalLM', 'RobertaForCausalLM', 'RobertaPreLayerNormForCausalLM', 'RoCBertForCausalLM', 'RoFormerForCausalLM', 'RwkvForCausalLM', 'Speech2Text2ForCausalLM', 'TransfoXLLMHeadModel', 'TrOCRForCausalLM', 'XGLMForCausalLM', 'XLMWithLMHeadModel', 'XLMProphetNetForCausalLM', 'XLMRobertaForCausalLM', 'XLMRobertaXLForCausalLM', 'XLNetLMHeadModel', 'XmodForCausalLM'].\n"
     ]
    }
   ],
   "source": [
    "pipe = pipeline(\n",
    "    \"text-generation\", model=model, tokenizer=tokenizer, max_new_tokens=512, repetition_penalty=1.1\n",
    ")\n",
    "llm = HuggingFacePipeline(pipeline=pipe)"
   ]
  },
  {
   "cell_type": "code",
   "execution_count": 7,
   "metadata": {},
   "outputs": [
    {
     "data": {
      "text/plain": [
       "'\\nSome economists believe that there is a positive correlation between unemployment and inflation. This means that when unemployment increases, inflation tends to follow suit. On the other hand, others argue that there is no significant link between these two economic indicators. Here are some of the most prominent theories regarding the relationship between unemployment and inflation:\\n1. The Phillips Curve Theory: This theory suggests that there is a trade-off between unemployment and inflation. In other words, as unemployment increases, inflation decreases, and vice versa. However, this relationship is not linear; instead, it forms an inverted U-shaped curve. Economists have observed that this relationship may have shifted over time, making it more difficult to predict how changes in unemployment will affect inflation.\\n2. The NAIRP (Non-Accelerating Inflation Rate of Unemployment) Theory: This theory proposes that there is a natural rate of unemployment, which is the point at which inflation is at its lowest. When unemployment falls below this rate, inflation begins to increase. Conversely, if unemployment rises above this rate, inflation starts to decrease. Some economists believe that the NAIRP can help policymakers better manage the economy by targeting specific levels of unemployment rather than trying to achieve full employment.\\n3. The Expectations Hypothesis: This theory suggests that expectations play a crucial role in determining the relationship between unemployment and inflation. If consumers expect inflation to rise in the future, they may demand higher wages, leading to higher prices and inflation. Similarly, if consumers expect inflation to fall, they may be willing to accept lower wages, resulting in lower prices and deflation. Therefore, the relationship between unemployment and inflation is influenced by expectations, which can change over time based on economic conditions and policy decisions.\\n4. The Structural Unemployment Theory: This view argues that long-term unemployment is structural in nature, meaning that it is not caused by short-term fluctuations in the economy. According to this theory, long-term unemployment is due to factors such as technological advancements, globalization, and labor force characteristics. Consequently, this type of unemployment is not affected by changes in monetary policy, which typically targets the short-term economy. As a result, structural unemployment is not considered when studying the relationship between unemployment and inflation.\\nIn conclusion, there is no consensus among economists on the exact relationship between unemployment and inflation. Various theories propose different perspectives, but further research is needed to understand the complexities of this interaction. Policymakers must carefully consider these theories when formulating economic policies aimed at achieving'"
      ]
     },
     "execution_count": 7,
     "metadata": {},
     "output_type": "execute_result"
    }
   ],
   "source": [
    "llm.invoke(\"What are some theories about the relationship between unemployment and inflation?\")"
   ]
  },
  {
   "cell_type": "code",
   "execution_count": 8,
   "metadata": {},
   "outputs": [
    {
     "data": {
      "text/plain": [
       "'热,'"
      ]
     },
     "execution_count": 8,
     "metadata": {},
     "output_type": "execute_result"
    }
   ],
   "source": [
    "llm.invoke(\"为什么今天天气好\")"
   ]
  },
  {
   "cell_type": "code",
   "execution_count": 9,
   "metadata": {},
   "outputs": [
    {
     "data": {
      "text/plain": [
       "[{'generated_text': '讲一讲牛顿的发现\\n'}]"
      ]
     },
     "execution_count": 9,
     "metadata": {},
     "output_type": "execute_result"
    }
   ],
   "source": [
    "pipe(\"讲一讲牛顿的发现\")"
   ]
  },
  {
   "cell_type": "code",
   "execution_count": 10,
   "metadata": {},
   "outputs": [
    {
     "name": "stdout",
     "output_type": "stream",
     "text": [
      "艾萨克·牛顿（Isaac Newton）是英国的一位著名科学家，被誉为科学大革命的重要人物之一。他的发现和理论对科学界产生了深远的影响。以下是一些关于牛顿的主要发现和成就：\n",
      "\n",
      "1. 万有引力定律：牛顿提出了万有引力定律，这是描述物体间引力的数学公式。根据这一定律，任何两个物体都会相互吸引，吸引力与它们的质量成正比，与它们之间的距离成反比。这一发现解释了地球上的重力现象，同时也解释了行星和其他天体的运动。\n",
      "\n",
      "2. 牛顿三定律：牛顿提出了三个描述物体运动的定律，被称为牛顿三定律。第一定律（惯性定律）指出，除非受到外力作用，否则物体保持静止或匀速直线运动。第二定律（动量定律）表明，力与物体的质量和速度的改变成正比。第三定律（作用与反作用定律）指出，对于每一个作用力，都有一个大小相等、方向相反的反作用力。\n",
      "\n",
      "3. 微积分：牛顿还与德国数学家戈特弗里德·莱布尼茨（Gottfried Wilhelm Leibniz）独立发现了微积分。这是一种研究变化率和累积量的数学方法，它在物理学、工程学、经济学等多个领域有着广泛的应用。\n",
      "\n",
      "4. 光学：牛顿在光学领域的研究也取得了重要的成果。他发现了白光实际上是由多种颜色组成的，并通过实验证明了光的波动性。此外，他还发明了反射式望远镜，这种望远镜使用曲面镜子来收集和放大图像，大大提高了观测效果。\n",
      "\n",
      "总的来说，牛顿的发现和理论对科学革命和现代科学的发展起到了关键的作用，他被认为是科学史上最伟大的科学家之一。\n"
     ]
    }
   ],
   "source": [
    "messages.append({'role': 'assistant', 'content': response})\n",
    "messages.append({\"role\": \"user\", \"content\": \"讲一讲牛顿的发现\"})\n",
    "response = model.chat(tokenizer, messages)\n",
    "print(response)"
   ]
  },
  {
   "cell_type": "code",
   "execution_count": 28,
   "metadata": {},
   "outputs": [
    {
     "name": "stdout",
     "output_type": "stream",
     "text": [
      "讲一讲牛顿的发现\n",
      "\n"
     ]
    }
   ],
   "source": [
    "pred = model.generate(**tokenizer(\"讲一讲牛顿的发现\", return_tensors=\"pt\").to('cuda:0'), max_new_tokens=512, repetition_penalty=1.1)\n",
    "print(tokenizer.decode(pred.cpu()[0], skip_special_tokens=True))"
   ]
  },
  {
   "cell_type": "code",
   "execution_count": 43,
   "metadata": {},
   "outputs": [
    {
     "name": "stdout",
     "output_type": "stream",
     "text": [
      "[195, 92955, 92342, 92955, 83546, 92333, 2081, 196]\n",
      "<reserved_106>讲一讲牛顿的发现<reserved_107>艾萨克·牛顿（Isaac Newton）是英国的一位著名科学家，出生于1642年，卒于1727年。他被认为是科学史上最伟大的物理学家之一，尤其是在经典力学领域。他的发现和理论对科学革命产生了深远的影响，奠定了现代科学的基础。\n",
      "\n",
      "牛顿的主要发现包括以下几点：\n",
      "\n",
      "1. 万有引力定律：在1687年，牛顿发表了他的著作《自然哲学的数学原理》，其中提出了万有引力定律。这一定律描述了物体之间的引力作用，即任何两个物体都会相互吸引，吸引力与它们的质量成正比，与它们之间的距离成反比。这一发现解释了地球和其他天体的运动规律，以及月球和行星的形状。\n",
      "\n",
      "2. 牛顿三定律：牛顿提出了三个描述物体运动的定律，被称为牛顿三定律。第一定律（惯性定律）指出，除非受到外力作用，否则物体保持静止或匀速直线运动。第二定律（动量定律）表明，物体的加速度与其受到的外力成正比，与物体的质量成反比。第三定律（作用与反作用定律）指出，作用力和反作用力大小相等，方向相反。这些定律为分析物体运动提供了基本原理。\n",
      "\n",
      "3. 微积分：牛顿还与德国数学家戈特弗里德·莱布尼茨（Gottfried Leibniz）独立发现了微积分。这是一种研究变化率和累积量的数学方法。微积分在许多科学和工程领域都有广泛应用，如物理学、化学、生物学等。\n",
      "\n",
      "4. 光学：牛顿还是一位杰出的光学学家，他对光的传播和反射进行了深入研究。他发明了反射望远镜，通过改进折射系统来减少色散和球差。此外，他还发现了白光是由多种颜色组成的，这一发现被称为“牛顿色散”。\n",
      "\n",
      "总之，艾萨克·牛顿的发现和理论对科学界产生了深远的影响，为现代科学的发展奠定了基础。他的贡献不仅限于物理学，还涉及到数学、天文学和光学等领域。因此，牛顿被誉为科学史上最伟大的科学家之一。\n"
     ]
    }
   ],
   "source": [
    "# 原理如此, 需要加入用户 token 和助手 token, 才能有对话效果\n",
    "inputs = tokenizer('登鹳雀楼->王之涣\\n夜雨寄北->', return_tensors='pt')\n",
    "inputs = tokenizer.encode('讲一讲牛顿的发现')\n",
    "inputs = [model.generation_config.user_token_id] + inputs + [model.generation_config.assistant_token_id]\n",
    "print(inputs)\n",
    "inputs = torch.LongTensor([inputs]).to('cuda:0')\n",
    "\n",
    "pred = model.generate(inputs, generation_config=model.generation_config)\n",
    "print(tokenizer.decode(pred.cpu()[0], skip_special_tokens=True))"
   ]
  },
  {
   "cell_type": "code",
   "execution_count": 41,
   "metadata": {},
   "outputs": [
    {
     "data": {
      "text/plain": [
       "{'input_ids': tensor([[92955, 92342, 92955, 83546, 92333,  2081]]), 'attention_mask': tensor([[1, 1, 1, 1, 1, 1]])}"
      ]
     },
     "execution_count": 41,
     "metadata": {},
     "output_type": "execute_result"
    }
   ],
   "source": [
    "tokenizer('讲一讲牛顿的发现', return_tensors='pt')"
   ]
  },
  {
   "cell_type": "code",
   "execution_count": 16,
   "metadata": {},
   "outputs": [
    {
     "name": "stdout",
     "output_type": "stream",
     "text": [
      "艾萨克·牛顿（Isaac Newton）是英国的一位杰出的科学家、数学家和哲学家，他的发现和理论对科学革命产生了深远的影响。以下是牛顿的一些主要发现和成就：\n",
      "\n",
      "1. 万有引力定律：牛顿提出了万有引力定律，这是描述物体间引力的基本原理。根据这一定律，任何两个物体都会相互吸引，吸引力与它们的质量成正比，与它们之间的距离成反比。这一定律解释了地球和其他天体的运动，以及潮汐现象。\n",
      "\n",
      "2. 牛顿三定律：牛顿提出了三个描述物体运动的定律，即牛顿第一定律（惯性定律）、牛顿第二定律（动量定律）和牛顿第三定律（作用与反作用定律）。这些定律为经典力学奠定了基础，至今仍被广泛应用于物理学和工程学领域。\n",
      "\n",
      "3. 微积分：牛顿与德国数学家戈特弗里德·莱布尼茨（Gottfried Wilhelm Leibniz）独立发现了微积分。这是一种研究变化率和累积量的数学方法，对于物理学、工程学、经济学等多个领域具有重要意义。\n",
      "\n",
      "4. 光学：牛顿在光学领域的贡献也非常显著。他发现了白光实际上是由多种颜色的光组成的，通过实验证明了光的波动性。此外，他还发明了反射式望远镜，提高了观测天体的能力。\n",
      "\n",
      "5. 数学：牛顿在数学领域也取得了许多成果，包括二项式定理的推广、幂级数的研究等。他的著作《自然哲学的数学原理》（Mathematical Principles of Natural Philosophy，简称《原理》）是科学史上最重要的著作之一，对科学的发展产生了深远影响。\n",
      "\n",
      "总之，艾萨克·牛顿的发现和理论对科学革命产生了重大影响，他的贡献不仅推动了物理学的发展，还对其他科学领域产生了深远的影响。\n"
     ]
    }
   ],
   "source": [
    "messages = []\n",
    "messages.append({\"role\": \"user\", \"content\": \"讲一讲牛顿的发现\"})\n",
    "response = model.chat(tokenizer, messages)\n",
    "print(response)"
   ]
  },
  {
   "cell_type": "code",
   "execution_count": 19,
   "metadata": {},
   "outputs": [
    {
     "data": {
      "text/plain": [
       "GenerationConfig {\n",
       "  \"assistant_token_id\": 196,\n",
       "  \"bos_token_id\": 1,\n",
       "  \"do_sample\": true,\n",
       "  \"eos_token_id\": 2,\n",
       "  \"max_new_tokens\": 2048,\n",
       "  \"pad_token_id\": 0,\n",
       "  \"repetition_penalty\": 1.05,\n",
       "  \"temperature\": 0.3,\n",
       "  \"top_k\": 5,\n",
       "  \"top_p\": 0.85,\n",
       "  \"transformers_version\": \"4.32.1\",\n",
       "  \"user_token_id\": 195\n",
       "}"
      ]
     },
     "execution_count": 19,
     "metadata": {},
     "output_type": "execute_result"
    }
   ],
   "source": [
    "model.generation_config"
   ]
  },
  {
   "cell_type": "code",
   "execution_count": 21,
   "metadata": {},
   "outputs": [],
   "source": [
    "from typing import List\n",
    "from queue import Queue\n",
    "\n",
    "import torch\n",
    "\n",
    "\n",
    "def build_chat_input(model, tokenizer, messages: List[dict], max_new_tokens: int=0):\n",
    "    \"\"\"\n",
    "    构建输入\n",
    "    \"\"\"\n",
    "    def _parse_messages(messages, split_role=\"user\"):\n",
    "        \"\"\"\n",
    "        解析消息\n",
    "        \"\"\"\n",
    "        system, rounds = \"\", []\n",
    "        round = []\n",
    "        for i, message in enumerate(messages):\n",
    "            # 如果第一条是系统消息, 解析出来\n",
    "            if message[\"role\"] == \"system\":\n",
    "                assert i == 0\n",
    "                system = message[\"content\"]\n",
    "                continue\n",
    "            # 如果是用户消息, 且 round 存在, 则将 round 加入 rounds. 开始下一轮\n",
    "            if message[\"role\"] == split_role and round:\n",
    "                rounds.append(round)\n",
    "                round = []\n",
    "            # 将消息加入 round\n",
    "            round.append(message)\n",
    "        # 添加最后的 round\n",
    "        if round:\n",
    "            rounds.append(round)\n",
    "        return system, rounds\n",
    "\n",
    "    max_new_tokens = max_new_tokens or model.generation_config.max_new_tokens\n",
    "    max_input_tokens = model.config.model_max_length - max_new_tokens\n",
    "    # 解析消息\n",
    "    system, rounds = _parse_messages(messages, split_role=\"user\")\n",
    "    # 编码系统消息\n",
    "    system_tokens = tokenizer.encode(system)\n",
    "    # 最大历史消息长度\n",
    "    max_history_tokens = max_input_tokens - len(system_tokens)\n",
    "\n",
    "    history_tokens = []\n",
    "    # 逆序\n",
    "    for round in rounds[::-1]:\n",
    "        round_tokens = []\n",
    "        for message in round:\n",
    "            # 加一个用户 token 或者助手 token\n",
    "            if message[\"role\"] == \"user\":\n",
    "                round_tokens.append(model.generation_config.user_token_id)\n",
    "            else:\n",
    "                round_tokens.append(model.generation_config.assistant_token_id)\n",
    "            round_tokens.extend(tokenizer.encode(message[\"content\"]))\n",
    "        if len(history_tokens) == 0 or len(history_tokens) + len(round_tokens) <= max_history_tokens:\n",
    "            history_tokens = round_tokens + history_tokens  # concat left\n",
    "            if len(history_tokens) < max_history_tokens:\n",
    "                continue\n",
    "        break\n",
    "\n",
    "    # 构建输入 tokens\n",
    "    input_tokens = system_tokens + history_tokens\n",
    "    # 如果最后一条不是助手消息, 则加一个助手 token\n",
    "    if messages[-1][\"role\"] != \"assistant\":\n",
    "        input_tokens.append(model.generation_config.assistant_token_id)\n",
    "    # 截断, 保留最后的 max_input_tokens\n",
    "    input_tokens = input_tokens[-max_input_tokens:]  # truncate left\n",
    "    return torch.LongTensor([input_tokens]).to(model.device)"
   ]
  },
  {
   "cell_type": "code",
   "execution_count": 22,
   "metadata": {},
   "outputs": [],
   "source": [
    "messages = []\n",
    "messages.append({\"role\": \"user\", \"content\": \"讲一讲牛顿的发现\"})\n",
    "input_ids = build_chat_input(model, tokenizer, messages, model.generation_config.max_new_tokens)"
   ]
  },
  {
   "cell_type": "code",
   "execution_count": 27,
   "metadata": {},
   "outputs": [
    {
     "name": "stdout",
     "output_type": "stream",
     "text": [
      "tensor([[  195, 92955, 92342, 92955, 83546, 92333,  2081,   196]],\n",
      "       device='cuda:0')\n"
     ]
    },
    {
     "data": {
      "text/plain": [
       "'<reserved_106>讲一讲牛顿的发现<reserved_107>'"
      ]
     },
     "execution_count": 27,
     "metadata": {},
     "output_type": "execute_result"
    }
   ],
   "source": [
    "print(input_ids)\n",
    "tokenizer.decode(input_ids[0].cpu(), skip_special_tokens=True)"
   ]
  },
  {
   "cell_type": "code",
   "execution_count": 25,
   "metadata": {},
   "outputs": [
    {
     "name": "stdout",
     "output_type": "stream",
     "text": [
      "艾萨克·牛顿（Isaac Newton）是英国的一位著名科学家，出生于1642年，卒于1727年。他被认为是科学史上最伟大的物理学家之一，尤其是在经典力学领域。他的发现和理论对科学革命产生了深远的影响。\n",
      "\n",
      "牛顿的主要发现包括以下几点：\n",
      "\n",
      "1. 万有引力定律：在1687年，牛顿发表了他的著作《自然哲学的数学原理》，其中提出了万有引力定律。这个定律描述了物体之间的引力作用，即任何两个物体都会相互吸引，吸引力与它们的质量成正比，与它们之间的距离成反比。这一发现解释了地球和其他行星的运动规律，以及月球和地球之间的引力作用。\n",
      "\n",
      "2. 牛顿三定律：牛顿提出了三个描述物体运动的定律，统称为牛顿三定律。第一定律（惯性定律）指出，除非受到外力作用，否则物体将保持静止或匀速直线运动。第二定律（动量定律）表明，物体受到的外力与其速度和质量之积成正比，即F=ma。第三定律（作用与反作用定律）指出，作用力和反作用力总是成对出现，大小相等，方向相反。\n",
      "\n",
      "3. 微积分：牛顿还与德国数学家戈特弗里德·莱布尼茨（Gottfried Wilhelm Leibniz）独立发现了微积分。微积分是一种数学方法，用于研究变化率和累积量的问题。它在物理学、工程学、经济学等多个领域具有广泛的应用。\n",
      "\n",
      "除了这些主要发现，牛顿还在光学、数学等领域做出了重要贡献。例如，他发现了白光实际上是由多种颜色的光组成的，并通过实验证明了光的波动性。此外，他还发明了反射式望远镜，提高了观测天体的能力。\n",
      "\n",
      "总之，艾萨克·牛顿的发现和理论为现代科学奠定了基础，他的贡献对于人类文明的发展具有重要意义。\n"
     ]
    }
   ],
   "source": [
    "outputs = model.generate(input_ids, generation_config=model.generation_config)\n",
    "response = tokenizer.decode(outputs[0][len(input_ids[0]):], skip_special_tokens=True)\n",
    "print(response)"
   ]
  },
  {
   "cell_type": "code",
   "execution_count": null,
   "metadata": {},
   "outputs": [],
   "source": []
  }
 ],
 "metadata": {
  "kernelspec": {
   "display_name": "nlp",
   "language": "python",
   "name": "python3"
  },
  "language_info": {
   "codemirror_mode": {
    "name": "ipython",
    "version": 3
   },
   "file_extension": ".py",
   "mimetype": "text/x-python",
   "name": "python",
   "nbconvert_exporter": "python",
   "pygments_lexer": "ipython3",
   "version": "3.8.12"
  }
 },
 "nbformat": 4,
 "nbformat_minor": 2
}

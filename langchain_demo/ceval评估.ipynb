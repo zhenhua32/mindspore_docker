{
 "cells": [
  {
   "cell_type": "code",
   "execution_count": 36,
   "metadata": {},
   "outputs": [],
   "source": [
    "import os\n",
    "import json\n",
    "from collections import defaultdict\n",
    "\n",
    "import pandas as pd\n",
    "from tqdm import tqdm\n",
    "from transformers import  pipeline, Conversation"
   ]
  },
  {
   "cell_type": "code",
   "execution_count": null,
   "metadata": {},
   "outputs": [],
   "source": [
    "from datasets import load_dataset\n",
    "\n",
    "dataset = load_dataset(r\"ceval/ceval-exam\", name=\"computer_network\")\n",
    "\n",
    "print(dataset[\"val\"][0])\n",
    "# {'id': 0, 'question': '使用位填充方法，以01111110为位首flag，数据为011011111111111111110010，求问传送时要添加几个0____', 'A': '1', 'B': '2', 'C': '3', 'D': '4', 'answer': 'C', 'explanation': ''}"
   ]
  },
  {
   "cell_type": "code",
   "execution_count": null,
   "metadata": {},
   "outputs": [],
   "source": [
    "print(dataset[\"test\"][0])"
   ]
  },
  {
   "cell_type": "markdown",
   "metadata": {},
   "source": [
    "每个科目由三个部分组成：dev、val 和 test。每个科目的 dev 集包含五个示范实例以及为 few-shot 评估提供的解释。val 集旨在用于超参数调整。而 test 集则用于模型评估。test 集上的标签不会公开，需要用户提交其结果才能自动获得测试准确性"
   ]
  },
  {
   "cell_type": "code",
   "execution_count": null,
   "metadata": {},
   "outputs": [],
   "source": [
    "print(dataset.keys())\n",
    "for key, val in dataset.items():\n",
    "    print(key, len(val))"
   ]
  },
  {
   "cell_type": "code",
   "execution_count": null,
   "metadata": {},
   "outputs": [],
   "source": [
    "# 重新保存成中文可读的\n",
    "import json\n",
    "with open(\"./data/subject_mapping.json\", \"r\", encoding=\"utf-8\") as f:\n",
    "    subject_mapping = json.load(f)\n",
    "with open(\"./data/subject_mapping.json\", \"w\", encoding=\"utf-8\") as f:\n",
    "    json.dump(subject_mapping, f, ensure_ascii=False, indent=2)"
   ]
  },
  {
   "cell_type": "code",
   "execution_count": 13,
   "metadata": {},
   "outputs": [
    {
     "name": "stderr",
     "output_type": "stream",
     "text": [
      "Found cached dataset ceval-exam (C:/Users/zhenh/.cache/huggingface/datasets/ceval___ceval-exam/computer_network/1.0.0/89fbc67f62695f2fe47dc983507c72b12dab83fbfbd4162f4d5dc4746d669cbf)\n",
      "100%|██████████| 3/3 [00:00<00:00, 999.83it/s]\n",
      "Found cached dataset ceval-exam (C:/Users/zhenh/.cache/huggingface/datasets/ceval___ceval-exam/operating_system/1.0.0/89fbc67f62695f2fe47dc983507c72b12dab83fbfbd4162f4d5dc4746d669cbf)\n",
      "100%|██████████| 3/3 [00:00<00:00, 1107.07it/s]\n",
      "Found cached dataset ceval-exam (C:/Users/zhenh/.cache/huggingface/datasets/ceval___ceval-exam/computer_architecture/1.0.0/89fbc67f62695f2fe47dc983507c72b12dab83fbfbd4162f4d5dc4746d669cbf)\n",
      "100%|██████████| 3/3 [00:00<00:00, 1000.07it/s]\n",
      "Found cached dataset ceval-exam (C:/Users/zhenh/.cache/huggingface/datasets/ceval___ceval-exam/college_programming/1.0.0/89fbc67f62695f2fe47dc983507c72b12dab83fbfbd4162f4d5dc4746d669cbf)\n",
      "100%|██████████| 3/3 [00:00<00:00, 999.68it/s]\n",
      "Found cached dataset ceval-exam (C:/Users/zhenh/.cache/huggingface/datasets/ceval___ceval-exam/college_physics/1.0.0/89fbc67f62695f2fe47dc983507c72b12dab83fbfbd4162f4d5dc4746d669cbf)\n",
      "100%|██████████| 3/3 [00:00<00:00, 1510.19it/s]\n",
      "Found cached dataset ceval-exam (C:/Users/zhenh/.cache/huggingface/datasets/ceval___ceval-exam/college_chemistry/1.0.0/89fbc67f62695f2fe47dc983507c72b12dab83fbfbd4162f4d5dc4746d669cbf)\n",
      "100%|██████████| 3/3 [00:00<00:00, 995.96it/s]\n",
      "Found cached dataset ceval-exam (C:/Users/zhenh/.cache/huggingface/datasets/ceval___ceval-exam/advanced_mathematics/1.0.0/89fbc67f62695f2fe47dc983507c72b12dab83fbfbd4162f4d5dc4746d669cbf)\n",
      "100%|██████████| 3/3 [00:00<00:00, 1499.57it/s]\n",
      "Found cached dataset ceval-exam (C:/Users/zhenh/.cache/huggingface/datasets/ceval___ceval-exam/probability_and_statistics/1.0.0/89fbc67f62695f2fe47dc983507c72b12dab83fbfbd4162f4d5dc4746d669cbf)\n",
      "100%|██████████| 3/3 [00:00<00:00, 1492.46it/s]\n",
      "Found cached dataset ceval-exam (C:/Users/zhenh/.cache/huggingface/datasets/ceval___ceval-exam/discrete_mathematics/1.0.0/89fbc67f62695f2fe47dc983507c72b12dab83fbfbd4162f4d5dc4746d669cbf)\n",
      "100%|██████████| 3/3 [00:00<00:00, 996.82it/s]\n",
      "Found cached dataset ceval-exam (C:/Users/zhenh/.cache/huggingface/datasets/ceval___ceval-exam/electrical_engineer/1.0.0/89fbc67f62695f2fe47dc983507c72b12dab83fbfbd4162f4d5dc4746d669cbf)\n",
      "100%|██████████| 3/3 [00:00<00:00, 1000.07it/s]\n",
      "Found cached dataset ceval-exam (C:/Users/zhenh/.cache/huggingface/datasets/ceval___ceval-exam/metrology_engineer/1.0.0/89fbc67f62695f2fe47dc983507c72b12dab83fbfbd4162f4d5dc4746d669cbf)\n",
      "100%|██████████| 3/3 [00:00<00:00, 1214.33it/s]\n",
      "Found cached dataset ceval-exam (C:/Users/zhenh/.cache/huggingface/datasets/ceval___ceval-exam/high_school_mathematics/1.0.0/89fbc67f62695f2fe47dc983507c72b12dab83fbfbd4162f4d5dc4746d669cbf)\n",
      "100%|██████████| 3/3 [00:00<00:00, 977.77it/s]\n",
      "Found cached dataset ceval-exam (C:/Users/zhenh/.cache/huggingface/datasets/ceval___ceval-exam/high_school_physics/1.0.0/89fbc67f62695f2fe47dc983507c72b12dab83fbfbd4162f4d5dc4746d669cbf)\n",
      "100%|██████████| 3/3 [00:00<00:00, 997.14it/s]\n",
      "Found cached dataset ceval-exam (C:/Users/zhenh/.cache/huggingface/datasets/ceval___ceval-exam/high_school_chemistry/1.0.0/89fbc67f62695f2fe47dc983507c72b12dab83fbfbd4162f4d5dc4746d669cbf)\n",
      "100%|██████████| 3/3 [00:00<00:00, 1000.39it/s]\n",
      "Found cached dataset ceval-exam (C:/Users/zhenh/.cache/huggingface/datasets/ceval___ceval-exam/high_school_biology/1.0.0/89fbc67f62695f2fe47dc983507c72b12dab83fbfbd4162f4d5dc4746d669cbf)\n",
      "100%|██████████| 3/3 [00:00<00:00, 1492.46it/s]\n",
      "Found cached dataset ceval-exam (C:/Users/zhenh/.cache/huggingface/datasets/ceval___ceval-exam/middle_school_mathematics/1.0.0/89fbc67f62695f2fe47dc983507c72b12dab83fbfbd4162f4d5dc4746d669cbf)\n",
      "100%|██████████| 3/3 [00:00<00:00, 997.93it/s]\n",
      "Found cached dataset ceval-exam (C:/Users/zhenh/.cache/huggingface/datasets/ceval___ceval-exam/middle_school_biology/1.0.0/89fbc67f62695f2fe47dc983507c72b12dab83fbfbd4162f4d5dc4746d669cbf)\n",
      "100%|██████████| 3/3 [00:00<00:00, 997.06it/s]\n",
      "Found cached dataset ceval-exam (C:/Users/zhenh/.cache/huggingface/datasets/ceval___ceval-exam/middle_school_physics/1.0.0/89fbc67f62695f2fe47dc983507c72b12dab83fbfbd4162f4d5dc4746d669cbf)\n",
      "100%|██████████| 3/3 [00:00<00:00, 999.99it/s]\n",
      "Found cached dataset ceval-exam (C:/Users/zhenh/.cache/huggingface/datasets/ceval___ceval-exam/middle_school_chemistry/1.0.0/89fbc67f62695f2fe47dc983507c72b12dab83fbfbd4162f4d5dc4746d669cbf)\n",
      "100%|██████████| 3/3 [00:00<00:00, 998.33it/s]\n",
      "Found cached dataset ceval-exam (C:/Users/zhenh/.cache/huggingface/datasets/ceval___ceval-exam/veterinary_medicine/1.0.0/89fbc67f62695f2fe47dc983507c72b12dab83fbfbd4162f4d5dc4746d669cbf)\n",
      "100%|██████████| 3/3 [00:00<00:00, 999.99it/s]\n",
      "Found cached dataset ceval-exam (C:/Users/zhenh/.cache/huggingface/datasets/ceval___ceval-exam/college_economics/1.0.0/89fbc67f62695f2fe47dc983507c72b12dab83fbfbd4162f4d5dc4746d669cbf)\n",
      "100%|██████████| 3/3 [00:00<00:00, 1174.88it/s]\n",
      "Found cached dataset ceval-exam (C:/Users/zhenh/.cache/huggingface/datasets/ceval___ceval-exam/business_administration/1.0.0/89fbc67f62695f2fe47dc983507c72b12dab83fbfbd4162f4d5dc4746d669cbf)\n",
      "100%|██████████| 3/3 [00:00<00:00, 998.01it/s]\n",
      "Found cached dataset ceval-exam (C:/Users/zhenh/.cache/huggingface/datasets/ceval___ceval-exam/marxism/1.0.0/89fbc67f62695f2fe47dc983507c72b12dab83fbfbd4162f4d5dc4746d669cbf)\n",
      "100%|██████████| 3/3 [00:00<00:00, 997.22it/s]\n",
      "Found cached dataset ceval-exam (C:/Users/zhenh/.cache/huggingface/datasets/ceval___ceval-exam/mao_zedong_thought/1.0.0/89fbc67f62695f2fe47dc983507c72b12dab83fbfbd4162f4d5dc4746d669cbf)\n",
      "100%|██████████| 3/3 [00:00<00:00, 1492.28it/s]\n",
      "Found cached dataset ceval-exam (C:/Users/zhenh/.cache/huggingface/datasets/ceval___ceval-exam/education_science/1.0.0/89fbc67f62695f2fe47dc983507c72b12dab83fbfbd4162f4d5dc4746d669cbf)\n",
      "100%|██████████| 3/3 [00:00<00:00, 996.51it/s]\n",
      "Found cached dataset ceval-exam (C:/Users/zhenh/.cache/huggingface/datasets/ceval___ceval-exam/teacher_qualification/1.0.0/89fbc67f62695f2fe47dc983507c72b12dab83fbfbd4162f4d5dc4746d669cbf)\n",
      "100%|██████████| 3/3 [00:00<00:00, 996.75it/s]\n",
      "Found cached dataset ceval-exam (C:/Users/zhenh/.cache/huggingface/datasets/ceval___ceval-exam/high_school_politics/1.0.0/89fbc67f62695f2fe47dc983507c72b12dab83fbfbd4162f4d5dc4746d669cbf)\n",
      "100%|██████████| 3/3 [00:00<00:00, 1000.23it/s]\n",
      "Found cached dataset ceval-exam (C:/Users/zhenh/.cache/huggingface/datasets/ceval___ceval-exam/high_school_geography/1.0.0/89fbc67f62695f2fe47dc983507c72b12dab83fbfbd4162f4d5dc4746d669cbf)\n",
      "100%|██████████| 3/3 [00:00<00:00, 751.53it/s]\n",
      "Found cached dataset ceval-exam (C:/Users/zhenh/.cache/huggingface/datasets/ceval___ceval-exam/middle_school_politics/1.0.0/89fbc67f62695f2fe47dc983507c72b12dab83fbfbd4162f4d5dc4746d669cbf)\n",
      "100%|██████████| 3/3 [00:00<00:00, 851.23it/s]\n",
      "Found cached dataset ceval-exam (C:/Users/zhenh/.cache/huggingface/datasets/ceval___ceval-exam/middle_school_geography/1.0.0/89fbc67f62695f2fe47dc983507c72b12dab83fbfbd4162f4d5dc4746d669cbf)\n",
      "100%|██████████| 3/3 [00:00<00:00, 995.40it/s]\n",
      "Found cached dataset ceval-exam (C:/Users/zhenh/.cache/huggingface/datasets/ceval___ceval-exam/modern_chinese_history/1.0.0/89fbc67f62695f2fe47dc983507c72b12dab83fbfbd4162f4d5dc4746d669cbf)\n",
      "100%|██████████| 3/3 [00:00<00:00, 997.22it/s]\n",
      "Found cached dataset ceval-exam (C:/Users/zhenh/.cache/huggingface/datasets/ceval___ceval-exam/ideological_and_moral_cultivation/1.0.0/89fbc67f62695f2fe47dc983507c72b12dab83fbfbd4162f4d5dc4746d669cbf)\n",
      "100%|██████████| 3/3 [00:00<00:00, 1499.93it/s]\n",
      "Found cached dataset ceval-exam (C:/Users/zhenh/.cache/huggingface/datasets/ceval___ceval-exam/logic/1.0.0/89fbc67f62695f2fe47dc983507c72b12dab83fbfbd4162f4d5dc4746d669cbf)\n",
      "100%|██████████| 3/3 [00:00<00:00, 1002.94it/s]\n",
      "Found cached dataset ceval-exam (C:/Users/zhenh/.cache/huggingface/datasets/ceval___ceval-exam/law/1.0.0/89fbc67f62695f2fe47dc983507c72b12dab83fbfbd4162f4d5dc4746d669cbf)\n",
      "100%|██████████| 3/3 [00:00<00:00, 1493.52it/s]\n",
      "Found cached dataset ceval-exam (C:/Users/zhenh/.cache/huggingface/datasets/ceval___ceval-exam/chinese_language_and_literature/1.0.0/89fbc67f62695f2fe47dc983507c72b12dab83fbfbd4162f4d5dc4746d669cbf)\n",
      "100%|██████████| 3/3 [00:00<00:00, 1500.29it/s]\n",
      "Found cached dataset ceval-exam (C:/Users/zhenh/.cache/huggingface/datasets/ceval___ceval-exam/art_studies/1.0.0/89fbc67f62695f2fe47dc983507c72b12dab83fbfbd4162f4d5dc4746d669cbf)\n",
      "100%|██████████| 3/3 [00:00<00:00, 1506.76it/s]\n",
      "Found cached dataset ceval-exam (C:/Users/zhenh/.cache/huggingface/datasets/ceval___ceval-exam/professional_tour_guide/1.0.0/89fbc67f62695f2fe47dc983507c72b12dab83fbfbd4162f4d5dc4746d669cbf)\n",
      "100%|██████████| 3/3 [00:00<00:00, 1492.63it/s]\n",
      "Found cached dataset ceval-exam (C:/Users/zhenh/.cache/huggingface/datasets/ceval___ceval-exam/legal_professional/1.0.0/89fbc67f62695f2fe47dc983507c72b12dab83fbfbd4162f4d5dc4746d669cbf)\n",
      "100%|██████████| 3/3 [00:00<00:00, 997.61it/s]\n",
      "Found cached dataset ceval-exam (C:/Users/zhenh/.cache/huggingface/datasets/ceval___ceval-exam/high_school_chinese/1.0.0/89fbc67f62695f2fe47dc983507c72b12dab83fbfbd4162f4d5dc4746d669cbf)\n",
      "100%|██████████| 3/3 [00:00<00:00, 997.30it/s]\n",
      "Found cached dataset ceval-exam (C:/Users/zhenh/.cache/huggingface/datasets/ceval___ceval-exam/high_school_history/1.0.0/89fbc67f62695f2fe47dc983507c72b12dab83fbfbd4162f4d5dc4746d669cbf)\n",
      "100%|██████████| 3/3 [00:00<00:00, 1492.63it/s]\n",
      "Found cached dataset ceval-exam (C:/Users/zhenh/.cache/huggingface/datasets/ceval___ceval-exam/middle_school_history/1.0.0/89fbc67f62695f2fe47dc983507c72b12dab83fbfbd4162f4d5dc4746d669cbf)\n",
      "100%|██████████| 3/3 [00:00<00:00, 999.91it/s]\n",
      "Found cached dataset ceval-exam (C:/Users/zhenh/.cache/huggingface/datasets/ceval___ceval-exam/civil_servant/1.0.0/89fbc67f62695f2fe47dc983507c72b12dab83fbfbd4162f4d5dc4746d669cbf)\n",
      "100%|██████████| 3/3 [00:00<00:00, 1490.34it/s]\n",
      "Found cached dataset ceval-exam (C:/Users/zhenh/.cache/huggingface/datasets/ceval___ceval-exam/sports_science/1.0.0/89fbc67f62695f2fe47dc983507c72b12dab83fbfbd4162f4d5dc4746d669cbf)\n",
      "100%|██████████| 3/3 [00:00<00:00, 996.98it/s]\n",
      "Found cached dataset ceval-exam (C:/Users/zhenh/.cache/huggingface/datasets/ceval___ceval-exam/plant_protection/1.0.0/89fbc67f62695f2fe47dc983507c72b12dab83fbfbd4162f4d5dc4746d669cbf)\n",
      "100%|██████████| 3/3 [00:00<00:00, 994.23it/s]\n",
      "Found cached dataset ceval-exam (C:/Users/zhenh/.cache/huggingface/datasets/ceval___ceval-exam/basic_medicine/1.0.0/89fbc67f62695f2fe47dc983507c72b12dab83fbfbd4162f4d5dc4746d669cbf)\n",
      "100%|██████████| 3/3 [00:00<00:00, 999.83it/s]\n",
      "Found cached dataset ceval-exam (C:/Users/zhenh/.cache/huggingface/datasets/ceval___ceval-exam/clinical_medicine/1.0.0/89fbc67f62695f2fe47dc983507c72b12dab83fbfbd4162f4d5dc4746d669cbf)\n",
      "100%|██████████| 3/3 [00:00<00:00, 1186.40it/s]\n",
      "Found cached dataset ceval-exam (C:/Users/zhenh/.cache/huggingface/datasets/ceval___ceval-exam/urban_and_rural_planner/1.0.0/89fbc67f62695f2fe47dc983507c72b12dab83fbfbd4162f4d5dc4746d669cbf)\n",
      "100%|██████████| 3/3 [00:00<00:00, 1500.47it/s]\n",
      "Found cached dataset ceval-exam (C:/Users/zhenh/.cache/huggingface/datasets/ceval___ceval-exam/accountant/1.0.0/89fbc67f62695f2fe47dc983507c72b12dab83fbfbd4162f4d5dc4746d669cbf)\n",
      "100%|██████████| 3/3 [00:00<00:00, 1000.39it/s]\n",
      "Found cached dataset ceval-exam (C:/Users/zhenh/.cache/huggingface/datasets/ceval___ceval-exam/fire_engineer/1.0.0/89fbc67f62695f2fe47dc983507c72b12dab83fbfbd4162f4d5dc4746d669cbf)\n",
      "100%|██████████| 3/3 [00:00<00:00, 1492.63it/s]\n",
      "Found cached dataset ceval-exam (C:/Users/zhenh/.cache/huggingface/datasets/ceval___ceval-exam/environmental_impact_assessment_engineer/1.0.0/89fbc67f62695f2fe47dc983507c72b12dab83fbfbd4162f4d5dc4746d669cbf)\n",
      "100%|██████████| 3/3 [00:00<00:00, 999.68it/s]\n",
      "Found cached dataset ceval-exam (C:/Users/zhenh/.cache/huggingface/datasets/ceval___ceval-exam/tax_accountant/1.0.0/89fbc67f62695f2fe47dc983507c72b12dab83fbfbd4162f4d5dc4746d669cbf)\n",
      "100%|██████████| 3/3 [00:00<00:00, 747.16it/s]\n",
      "Found cached dataset ceval-exam (C:/Users/zhenh/.cache/huggingface/datasets/ceval___ceval-exam/physician/1.0.0/89fbc67f62695f2fe47dc983507c72b12dab83fbfbd4162f4d5dc4746d669cbf)\n",
      "100%|██████████| 3/3 [00:00<00:00, 1000.15it/s]"
     ]
    },
    {
     "name": "stdout",
     "output_type": "stream",
     "text": [
      "12342\n"
     ]
    },
    {
     "name": "stderr",
     "output_type": "stream",
     "text": [
      "\n"
     ]
    }
   ],
   "source": [
    "# 看下总共有多少数据\n",
    "count = 0\n",
    "data_list = []\n",
    "for name, item in subject_mapping.items():\n",
    "    en_name = item[0]\n",
    "    zh_name = item[1]\n",
    "    category = item[2]\n",
    "\n",
    "    dataset = load_dataset(r\"ceval/ceval-exam\", name=name)\n",
    "\n",
    "    count += len(dataset[\"test\"])\n",
    "\n",
    "    data_list.append({\n",
    "        \"name\": name,\n",
    "        \"en_name\": en_name,\n",
    "        \"zh_name\": zh_name,\n",
    "        \"category\": category,\n",
    "        \"test_num\": len(dataset[\"test\"]),\n",
    "        \"val_num\": len(dataset[\"val\"]),\n",
    "        \"dev_num\": len(dataset[\"dev\"]),\n",
    "    })\n",
    "\n",
    "print(count)"
   ]
  },
  {
   "cell_type": "code",
   "execution_count": 15,
   "metadata": {},
   "outputs": [
    {
     "name": "stdout",
     "output_type": "stream",
     "text": [
      "(52, 7)\n"
     ]
    },
    {
     "data": {
      "text/html": [
       "<div>\n",
       "<style scoped>\n",
       "    .dataframe tbody tr th:only-of-type {\n",
       "        vertical-align: middle;\n",
       "    }\n",
       "\n",
       "    .dataframe tbody tr th {\n",
       "        vertical-align: top;\n",
       "    }\n",
       "\n",
       "    .dataframe thead th {\n",
       "        text-align: right;\n",
       "    }\n",
       "</style>\n",
       "<table border=\"1\" class=\"dataframe\">\n",
       "  <thead>\n",
       "    <tr style=\"text-align: right;\">\n",
       "      <th></th>\n",
       "      <th>name</th>\n",
       "      <th>en_name</th>\n",
       "      <th>zh_name</th>\n",
       "      <th>category</th>\n",
       "      <th>test_num</th>\n",
       "      <th>val_num</th>\n",
       "      <th>dev_num</th>\n",
       "    </tr>\n",
       "  </thead>\n",
       "  <tbody>\n",
       "    <tr>\n",
       "      <th>0</th>\n",
       "      <td>computer_network</td>\n",
       "      <td>Computer Network</td>\n",
       "      <td>计算机网络</td>\n",
       "      <td>STEM</td>\n",
       "      <td>171</td>\n",
       "      <td>19</td>\n",
       "      <td>5</td>\n",
       "    </tr>\n",
       "    <tr>\n",
       "      <th>1</th>\n",
       "      <td>operating_system</td>\n",
       "      <td>Operating System</td>\n",
       "      <td>操作系统</td>\n",
       "      <td>STEM</td>\n",
       "      <td>179</td>\n",
       "      <td>19</td>\n",
       "      <td>5</td>\n",
       "    </tr>\n",
       "    <tr>\n",
       "      <th>2</th>\n",
       "      <td>computer_architecture</td>\n",
       "      <td>Computer Architecture</td>\n",
       "      <td>计算机组成</td>\n",
       "      <td>STEM</td>\n",
       "      <td>193</td>\n",
       "      <td>21</td>\n",
       "      <td>5</td>\n",
       "    </tr>\n",
       "  </tbody>\n",
       "</table>\n",
       "</div>"
      ],
      "text/plain": [
       "                    name                en_name zh_name category  test_num  \\\n",
       "0       computer_network       Computer Network   计算机网络     STEM       171   \n",
       "1       operating_system       Operating System    操作系统     STEM       179   \n",
       "2  computer_architecture  Computer Architecture   计算机组成     STEM       193   \n",
       "\n",
       "   val_num  dev_num  \n",
       "0       19        5  \n",
       "1       19        5  \n",
       "2       21        5  "
      ]
     },
     "execution_count": 15,
     "metadata": {},
     "output_type": "execute_result"
    }
   ],
   "source": [
    "df = pd.DataFrame(data_list)\n",
    "print(df.shape)\n",
    "df.head(3)"
   ]
  },
  {
   "cell_type": "code",
   "execution_count": 21,
   "metadata": {},
   "outputs": [
    {
     "data": {
      "text/plain": [
       "<AxesSubplot:xlabel='zh_name'>"
      ]
     },
     "execution_count": 21,
     "metadata": {},
     "output_type": "execute_result"
    },
    {
     "data": {
      "image/png": "[encoded data removed]",
      "text/plain": [
       "<Figure size 2160x720 with 1 Axes>"
      ]
     },
     "metadata": {
      "needs_background": "light"
     },
     "output_type": "display_data"
    }
   ],
   "source": [
    "import pandas as pd\n",
    "import numpy as np\n",
    "import matplotlib.pyplot as plt\n",
    "\n",
    "# 设置字体参数\n",
    "plt.rcParams['font.sans-serif'] = 'SimHei'\n",
    "plt.rcParams['axes.unicode_minus'] = False\n",
    "\n",
    "df.plot(kind=\"bar\", x=\"zh_name\", y=[\"test_num\", \"val_num\", \"dev_num\"], figsize=(30, 10))"
   ]
  },
  {
   "cell_type": "code",
   "execution_count": 22,
   "metadata": {},
   "outputs": [],
   "source": [
    "from baichaun_chat import load_baichuan_model, pipeline_chat"
   ]
  },
  {
   "cell_type": "code",
   "execution_count": 23,
   "metadata": {},
   "outputs": [
    {
     "name": "stderr",
     "output_type": "stream",
     "text": [
      "A matching Triton is not available, some optimizations will not be enabled.\n",
      "Error caught was: No module named 'triton'\n"
     ]
    },
    {
     "name": "stdout",
     "output_type": "stream",
     "text": [
      "bin c:\\tech\\Anaconda3\\envs\\nlp\\lib\\site-packages\\bitsandbytes\\libbitsandbytes_cuda121.dll\n"
     ]
    },
    {
     "name": "stderr",
     "output_type": "stream",
     "text": [
      "Loading checkpoint shards: 100%|██████████| 3/3 [01:00<00:00, 20.30s/it]"
     ]
    },
    {
     "name": "stdout",
     "output_type": "stream",
     "text": [
      "cuda:0 torch.float16\n"
     ]
    },
    {
     "name": "stderr",
     "output_type": "stream",
     "text": [
      "\n"
     ]
    }
   ],
   "source": [
    "model, tokenizer = load_baichuan_model()"
   ]
  },
  {
   "cell_type": "code",
   "execution_count": 28,
   "metadata": {},
   "outputs": [
    {
     "data": {
      "text/plain": [
       "({'id': 0,\n",
       "  'question': '医学伦理学的核心问题是____',\n",
       "  'A': '医务人员之间的关系',\n",
       "  'B': '医务人员与患者的关系',\n",
       "  'C': '医务人员与社会之间的关系',\n",
       "  'D': '医务人员与科学发展之间的关系',\n",
       "  'answer': 'B',\n",
       "  'explanation': '1. 医务人员与患者的关系，是医学伦理学的核心问题和主要研究对象。'},\n",
       " '医师资格')"
      ]
     },
     "execution_count": 28,
     "metadata": {},
     "output_type": "execute_result"
    }
   ],
   "source": [
    "dataset[\"dev\"][0], zh_name"
   ]
  },
  {
   "cell_type": "code",
   "execution_count": 50,
   "metadata": {},
   "outputs": [
    {
     "name": "stdout",
     "output_type": "stream",
     "text": [
      "<reserved_106>以下是中国关于医师资格考试的单项选择题，请选出其中的正确答案。\n",
      "医学伦理学的核心问题是____\n",
      "A. 医务人员之间的关系\n",
      "B. 医务人员与患者的关系\n",
      "C. 医务人员与社会之间的关系\n",
      "D. 医务人员与科学发展之间的关系\n",
      "答案：<reserved_107>\n"
     ]
    }
   ],
   "source": [
    "# 只为单次对话构建, 不包含多轮对话\n",
    "chat_template = \"\"\"\n",
    "<reserved_106>{{messages[0][\"content\"]}}<reserved_107>\n",
    "\"\"\".strip().replace(\n",
    "    \"\\n\", \"\"\n",
    ")\n",
    "\n",
    "def build_content(example, zh_name):\n",
    "    content = \"\"\"\n",
    "    以下是中国关于{科目}考试的单项选择题，请选出其中的正确答案。\n",
    "    {测试题目}\n",
    "    A. {选项A}\n",
    "    B. {选项B}\n",
    "    C. {选项C}\n",
    "    D. {选项D}\n",
    "    答案：\n",
    "    \"\"\".format(\n",
    "        科目=zh_name,\n",
    "        测试题目=example[\"question\"],\n",
    "        选项A=example[\"A\"],\n",
    "        选项B=example[\"B\"],\n",
    "        选项C=example[\"C\"],\n",
    "        选项D=example[\"D\"],\n",
    "    )\n",
    "    # 去掉每一行的首尾空格\n",
    "    content = \"\\n\".join([line.strip() for line in content.split(\"\\n\")])\n",
    "    return content\n",
    "\n",
    "chat = [\n",
    "    {\"role\": \"user\", \"content\": build_content(dataset[\"dev\"][0], zh_name)}\n",
    "]\n",
    "model.chat_template = chat_template\n",
    "print(tokenizer.apply_chat_template(chat, tokenize=False))"
   ]
  },
  {
   "cell_type": "code",
   "execution_count": 46,
   "metadata": {},
   "outputs": [
    {
     "name": "stderr",
     "output_type": "stream",
     "text": [
      "Both `max_new_tokens` (=2048) and `max_length`(=4096) seem to have been set. `max_new_tokens` will take precedence. Please refer to the documentation for more information. (https://huggingface.co/docs/transformers/main/en/main_classes/text_generation)\n"
     ]
    },
    {
     "name": "stdout",
     "output_type": "stream",
     "text": [
      "A\n"
     ]
    }
   ],
   "source": [
    "# 这个长度不设置有点坑, 默认怎么会是 20, 都不知道是哪里设置的\n",
    "model.config.max_length = 4096\n",
    "tokenizer.pad_token_id = tokenizer.eos_token_id\n",
    "\n",
    "# 初始化 pipeline\n",
    "chatbot = pipeline(\"conversational\", model=model, tokenizer=tokenizer)\n",
    "\n",
    "content = build_content(dataset[\"test\"][0], zh_name)\n",
    "\n",
    "# 开启一个对话\n",
    "conversation = Conversation(content)\n",
    "conversation = chatbot(conversation)\n",
    "print(conversation.generated_responses[-1])"
   ]
  },
  {
   "cell_type": "markdown",
   "metadata": {},
   "source": [
    "# 零样本测试"
   ]
  },
  {
   "cell_type": "code",
   "execution_count": 51,
   "metadata": {},
   "outputs": [
    {
     "name": "stdout",
     "output_type": "stream",
     "text": [
      "<reserved_106>以下是中国关于医师资格考试的单项选择题，请选出其中的正确答案。\n",
      "医学伦理学的核心问题是____\n",
      "A. 医务人员之间的关系\n",
      "B. 医务人员与患者的关系\n",
      "C. 医务人员与社会之间的关系\n",
      "D. 医务人员与科学发展之间的关系\n",
      "答案：<reserved_107>\n"
     ]
    }
   ],
   "source": [
    "# 定义模型的 prompt\n",
    "\n",
    "# 只为单次对话构建, 不包含多轮对话\n",
    "chat_template = \"\"\"\n",
    "<reserved_106>{{messages[0][\"content\"]}}<reserved_107>\n",
    "\"\"\".strip().replace(\n",
    "    \"\\n\", \"\"\n",
    ")\n",
    "\n",
    "def build_content(example, zh_name):\n",
    "    content = \"\"\"\n",
    "    以下是中国关于{科目}考试的单项选择题，请选出其中的正确答案。\n",
    "    {测试题目}\n",
    "    A. {选项A}\n",
    "    B. {选项B}\n",
    "    C. {选项C}\n",
    "    D. {选项D}\n",
    "    答案：\n",
    "    \"\"\".format(\n",
    "        科目=zh_name,\n",
    "        测试题目=example[\"question\"],\n",
    "        选项A=example[\"A\"],\n",
    "        选项B=example[\"B\"],\n",
    "        选项C=example[\"C\"],\n",
    "        选项D=example[\"D\"],\n",
    "    )\n",
    "    # 去掉每一行的首尾空格\n",
    "    content = \"\\n\".join([line.strip() for line in content.split(\"\\n\")])\n",
    "    return content\n",
    "\n",
    "chat = [\n",
    "    {\"role\": \"user\", \"content\": build_content(dataset[\"dev\"][0], zh_name)}\n",
    "]\n",
    "model.chat_template = chat_template\n",
    "print(tokenizer.apply_chat_template(chat, tokenize=False))\n",
    "\n",
    "# 这个长度不设置有点坑, 默认怎么会是 20, 都不知道是哪里设置的\n",
    "model.config.max_length = 4096\n",
    "tokenizer.pad_token_id = tokenizer.eos_token_id\n",
    "\n",
    "# 初始化 pipeline\n",
    "chatbot = pipeline(\"conversational\", model=model, tokenizer=tokenizer)"
   ]
  },
  {
   "cell_type": "code",
   "execution_count": null,
   "metadata": {},
   "outputs": [],
   "source": [
    "# 保存最终的结果\n",
    "result = defaultdict(dict)\n",
    "# 保存详细的推理结果\n",
    "detail_list = []\n",
    "\n",
    "\n",
    "# 遍历每一个学科的题目\n",
    "for name, item in subject_mapping.items():\n",
    "    en_name = item[0]\n",
    "    zh_name = item[1]\n",
    "    category = item[2]\n",
    "\n",
    "    dataset = load_dataset(r\"ceval/ceval-exam\", name=name)\n",
    "\n",
    "    for example in tqdm(dataset[\"test\"], desc=zh_name):\n",
    "        id = example[\"id\"]\n",
    "        content = build_content(example, zh_name)\n",
    "\n",
    "        # 开启一个对话\n",
    "        conversation = Conversation(content)\n",
    "        conversation = chatbot(conversation)\n",
    "        response = conversation.generated_responses[-1]\n",
    "\n",
    "        # 只取第一个值\n",
    "        result[name][id] = response[0]\n",
    "\n",
    "        # 保存详细的推理结果\n",
    "        detail_list.append({\n",
    "            \"name\": name,\n",
    "            \"en_name\": en_name,\n",
    "            \"zh_name\": zh_name,\n",
    "            \"category\": category,\n",
    "            \"predict\": response[0],\n",
    "            \"response\": response,\n",
    "            **example,  # 加上原始的数据\n",
    "        })"
   ]
  },
  {
   "cell_type": "markdown",
   "metadata": {},
   "source": [
    "# TODO: 太慢了, 1366 条, 跑了 50 分钟. 这里 test 总共有 12342 条."
   ]
  },
  {
   "cell_type": "code",
   "execution_count": 56,
   "metadata": {},
   "outputs": [
    {
     "data": {
      "text/plain": [
       "1366"
      ]
     },
     "execution_count": 56,
     "metadata": {},
     "output_type": "execute_result"
    }
   ],
   "source": [
    "len(detail_list)"
   ]
  },
  {
   "cell_type": "code",
   "execution_count": 55,
   "metadata": {},
   "outputs": [],
   "source": [
    "with open(\"detail.json\", \"w\", encoding=\"utf-8\") as f:\n",
    "    json.dump(detail_list, f, ensure_ascii=False, indent=2)"
   ]
  }
 ],
 "metadata": {
  "kernelspec": {
   "display_name": "nlp",
   "language": "python",
   "name": "python3"
  },
  "language_info": {
   "codemirror_mode": {
    "name": "ipython",
    "version": 3
   },
   "file_extension": ".py",
   "mimetype": "text/x-python",
   "name": "python",
   "nbconvert_exporter": "python",
   "pygments_lexer": "ipython3",
   "version": "3.8.12"
  }
 },
 "nbformat": 4,
 "nbformat_minor": 2
}

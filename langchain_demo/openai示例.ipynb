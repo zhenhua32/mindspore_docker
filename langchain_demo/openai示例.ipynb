{
 "cells": [
  {
   "cell_type": "code",
   "execution_count": 1,
   "metadata": {},
   "outputs": [],
   "source": [
    "import os\n",
    "from dotenv import load_dotenv\n",
    "load_dotenv(\".env\")\n",
    "\n",
    "assert \"OPENAI_API_KEY\" in os.environ, \"Please set OPENAI_API_KEY in .env file\""
   ]
  },
  {
   "cell_type": "code",
   "execution_count": 2,
   "metadata": {},
   "outputs": [],
   "source": [
    "from openai import OpenAI\n",
    "\n",
    "client = OpenAI(\n",
    "    base_url=\"https://api.openai-proxy.com/v1\"\n",
    ")"
   ]
  },
  {
   "cell_type": "code",
   "execution_count": 6,
   "metadata": {},
   "outputs": [
    {
     "name": "stdout",
     "output_type": "stream",
     "text": [
      "ChatCompletionMessage(content='在编程的世界里绕梁的歌，\\n递归的概念如同鸟飞翔。\\n函数自身调用，如镜花水月，\\n巧妙而神秘，如梦的缠绕。\\n\\n递归是一种追溯循环，\\n问题分解成更小的问题。\\n递归之美在于简洁，\\n思想之深处，如诗的清韵。\\n\\n但要小心递归的陷阱，\\n无限循环会将你困住。\\n基线条件需特别留意，\\n否则程序将走向沉寂的谷底。\\n\\n递归如同四季轮回，\\n渐行渐远，渐行渐近。\\n编程世界多了它的存在，\\n如同诗意，美丽而深邃。', role='assistant', function_call=None, tool_calls=None)\n"
     ]
    }
   ],
   "source": [
    "# 第一个示例\n",
    "completion = client.chat.completions.create(\n",
    "    # model=\"gpt-3.5-turbo\",\n",
    "    model=\"gpt-3.5-turbo-0125\",\n",
    "    messages=[\n",
    "        {\n",
    "            \"role\": \"system\",\n",
    "            \"content\": \"You are a poetic assistant, skilled in explaining complex programming concepts with creative flair.\",\n",
    "        },\n",
    "        {\"role\": \"user\", \"content\": \"Compose a poem that explains the concept of recursion in programming. 用中文回答\"},\n",
    "    ],\n",
    ")\n",
    "\n",
    "print(completion.choices[0].message)\n"
   ]
  },
  {
   "cell_type": "code",
   "execution_count": null,
   "metadata": {},
   "outputs": [],
   "source": []
  }
 ],
 "metadata": {
  "kernelspec": {
   "display_name": "base",
   "language": "python",
   "name": "python3"
  },
  "language_info": {
   "codemirror_mode": {
    "name": "ipython",
    "version": 3
   },
   "file_extension": ".py",
   "mimetype": "text/x-python",
   "name": "python",
   "nbconvert_exporter": "python",
   "pygments_lexer": "ipython3",
   "version": "3.10.8"
  },
  "orig_nbformat": 4
 },
 "nbformat": 4,
 "nbformat_minor": 2
}

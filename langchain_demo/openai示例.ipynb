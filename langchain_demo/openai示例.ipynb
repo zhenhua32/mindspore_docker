{
 "cells": [
  {
   "cell_type": "code",
   "execution_count": 1,
   "metadata": {},
   "outputs": [],
   "source": [
    "import os\n",
    "from dotenv import load_dotenv\n",
    "load_dotenv(\".env\")\n",
    "\n",
    "assert \"OPENAI_API_KEY\" in os.environ, \"Please set OPENAI_API_KEY in .env file\""
   ]
  },
  {
   "cell_type": "code",
   "execution_count": 2,
   "metadata": {},
   "outputs": [],
   "source": [
    "from openai import OpenAI\n",
    "\n",
    "client = OpenAI(\n",
    "    base_url=\"https://api.openai-proxy.com/v1\"\n",
    ")"
   ]
  },
  {
   "cell_type": "markdown",
   "metadata": {},
   "source": [
    "# 简单调用示例"
   ]
  },
  {
   "cell_type": "code",
   "execution_count": 6,
   "metadata": {},
   "outputs": [
    {
     "name": "stdout",
     "output_type": "stream",
     "text": [
      "ChatCompletionMessage(content='在编程的世界里绕梁的歌，\\n递归的概念如同鸟飞翔。\\n函数自身调用，如镜花水月，\\n巧妙而神秘，如梦的缠绕。\\n\\n递归是一种追溯循环，\\n问题分解成更小的问题。\\n递归之美在于简洁，\\n思想之深处，如诗的清韵。\\n\\n但要小心递归的陷阱，\\n无限循环会将你困住。\\n基线条件需特别留意，\\n否则程序将走向沉寂的谷底。\\n\\n递归如同四季轮回，\\n渐行渐远，渐行渐近。\\n编程世界多了它的存在，\\n如同诗意，美丽而深邃。', role='assistant', function_call=None, tool_calls=None)\n"
     ]
    }
   ],
   "source": [
    "# 第一个示例\n",
    "completion = client.chat.completions.create(\n",
    "    # model=\"gpt-3.5-turbo\",\n",
    "    model=\"gpt-3.5-turbo-0125\",\n",
    "    messages=[\n",
    "        {\n",
    "            \"role\": \"system\",\n",
    "            \"content\": \"You are a poetic assistant, skilled in explaining complex programming concepts with creative flair.\",\n",
    "        },\n",
    "        {\"role\": \"user\", \"content\": \"Compose a poem that explains the concept of recursion in programming. 用中文回答\"},\n",
    "    ],\n",
    ")\n",
    "\n",
    "print(completion.choices[0].message)"
   ]
  },
  {
   "cell_type": "code",
   "execution_count": 10,
   "metadata": {},
   "outputs": [
    {
     "name": "stdout",
     "output_type": "stream",
     "text": [
      "ChatCompletion(id='chatcmpl-8ugGST9DbPMV6nOJnxsbPim96okZq', choices=[Choice(finish_reason='stop', index=0, logprobs=None, message=ChatCompletionMessage(content='在编程的世界里绕梁的歌，\\n递归的概念如同鸟飞翔。\\n函数自身调用，如镜花水月，\\n巧妙而神秘，如梦的缠绕。\\n\\n递归是一种追溯循环，\\n问题分解成更小的问题。\\n递归之美在于简洁，\\n思想之深处，如诗的清韵。\\n\\n但要小心递归的陷阱，\\n无限循环会将你困住。\\n基线条件需特别留意，\\n否则程序将走向沉寂的谷底。\\n\\n递归如同四季轮回，\\n渐行渐远，渐行渐近。\\n编程世界多了它的存在，\\n如同诗意，美丽而深邃。', role='assistant', function_call=None, tool_calls=None))], created=1708519524, model='gpt-3.5-turbo-0125', object='chat.completion', system_fingerprint='fp_69829325d0', usage=CompletionUsage(completion_tokens=234, prompt_tokens=46, total_tokens=280))\n",
      "{'choices': [Choice(finish_reason='stop', index=0, logprobs=None, message=ChatCompletionMessage(content='在编程的世界里绕梁的歌，\\n递归的概念如同鸟飞翔。\\n函数自身调用，如镜花水月，\\n巧妙而神秘，如梦的缠绕。\\n\\n递归是一种追溯循环，\\n问题分解成更小的问题。\\n递归之美在于简洁，\\n思想之深处，如诗的清韵。\\n\\n但要小心递归的陷阱，\\n无限循环会将你困住。\\n基线条件需特别留意，\\n否则程序将走向沉寂的谷底。\\n\\n递归如同四季轮回，\\n渐行渐远，渐行渐近。\\n编程世界多了它的存在，\\n如同诗意，美丽而深邃。', role='assistant', function_call=None, tool_calls=None))],\n",
      " 'created': 1708519524,\n",
      " 'id': 'chatcmpl-8ugGST9DbPMV6nOJnxsbPim96okZq',\n",
      " 'model': 'gpt-3.5-turbo-0125',\n",
      " 'object': 'chat.completion',\n",
      " 'system_fingerprint': 'fp_69829325d0',\n",
      " 'usage': CompletionUsage(completion_tokens=234, prompt_tokens=46, total_tokens=280)}\n"
     ]
    }
   ],
   "source": [
    "from pprint import pprint\n",
    "pprint(completion)\n",
    "\n",
    "pprint(completion.__dict__)"
   ]
  },
  {
   "cell_type": "code",
   "execution_count": 11,
   "metadata": {},
   "outputs": [
    {
     "name": "stdout",
     "output_type": "stream",
     "text": [
      "{'finish_reason': 'stop',\n",
      " 'index': 0,\n",
      " 'logprobs': None,\n",
      " 'message': ChatCompletionMessage(content='在编程的世界里绕梁的歌，\\n递归的概念如同鸟飞翔。\\n函数自身调用，如镜花水月，\\n巧妙而神秘，如梦的缠绕。\\n\\n递归是一种追溯循环，\\n问题分解成更小的问题。\\n递归之美在于简洁，\\n思想之深处，如诗的清韵。\\n\\n但要小心递归的陷阱，\\n无限循环会将你困住。\\n基线条件需特别留意，\\n否则程序将走向沉寂的谷底。\\n\\n递归如同四季轮回，\\n渐行渐远，渐行渐近。\\n编程世界多了它的存在，\\n如同诗意，美丽而深邃。', role='assistant', function_call=None, tool_calls=None)}\n"
     ]
    }
   ],
   "source": [
    "pprint(completion.choices[0].__dict__)"
   ]
  },
  {
   "cell_type": "code",
   "execution_count": 12,
   "metadata": {},
   "outputs": [
    {
     "name": "stdout",
     "output_type": "stream",
     "text": [
      "{'content': '在编程的世界里绕梁的歌，\\n'\n",
      "            '递归的概念如同鸟飞翔。\\n'\n",
      "            '函数自身调用，如镜花水月，\\n'\n",
      "            '巧妙而神秘，如梦的缠绕。\\n'\n",
      "            '\\n'\n",
      "            '递归是一种追溯循环，\\n'\n",
      "            '问题分解成更小的问题。\\n'\n",
      "            '递归之美在于简洁，\\n'\n",
      "            '思想之深处，如诗的清韵。\\n'\n",
      "            '\\n'\n",
      "            '但要小心递归的陷阱，\\n'\n",
      "            '无限循环会将你困住。\\n'\n",
      "            '基线条件需特别留意，\\n'\n",
      "            '否则程序将走向沉寂的谷底。\\n'\n",
      "            '\\n'\n",
      "            '递归如同四季轮回，\\n'\n",
      "            '渐行渐远，渐行渐近。\\n'\n",
      "            '编程世界多了它的存在，\\n'\n",
      "            '如同诗意，美丽而深邃。',\n",
      " 'function_call': None,\n",
      " 'role': 'assistant',\n",
      " 'tool_calls': None}\n"
     ]
    }
   ],
   "source": [
    "pprint(completion.choices[0].message.__dict__)"
   ]
  },
  {
   "cell_type": "markdown",
   "metadata": {},
   "source": [
    "# json 模式"
   ]
  },
  {
   "cell_type": "code",
   "execution_count": 14,
   "metadata": {},
   "outputs": [
    {
     "name": "stdout",
     "output_type": "stream",
     "text": [
      "ChatCompletionMessage(content='{\\n    \"poemTitle\": \"The Dance of Recursion\",\\n    \"poemBody\": \"In the realm of code, a dance unfolds, \\\\nA function calls itself, stories untold. \\\\nLike a mirror reflecting its own reflection, \\\\nRecursion echoes in an endless procession. \\\\nEach step taken leads to another turn, \\\\nA looping rhythm, a cycle to discern. \\\\nThrough layers deep, the call persists, \\\\nUntil a base case breaks the twists. \\\\nO recursive waltz, elegant and grand, \\\\nIn the world of programming, you firmly stand.\"\\n}', role='assistant', function_call=None, tool_calls=None)\n"
     ]
    }
   ],
   "source": [
    "# 强制使用 json 输出\n",
    "completion = client.chat.completions.create(\n",
    "    # model=\"gpt-3.5-turbo\",\n",
    "    model=\"gpt-3.5-turbo-0125\",\n",
    "    messages=[\n",
    "        {\n",
    "            \"role\": \"system\",\n",
    "            \"content\": \"You are a poetic assistant, skilled in explaining complex programming concepts with creative flair.\",\n",
    "        },\n",
    "        {\"role\": \"user\", \"content\": \"Compose a poem that explains the concept of recursion in programming. 用中文回答, 返回一个 JSON, key 是是诗名\"},\n",
    "    ],\n",
    "    response_format={ \"type\": \"json_object\" },\n",
    ")\n",
    "\n",
    "print(completion.choices[0].message)"
   ]
  },
  {
   "cell_type": "code",
   "execution_count": 15,
   "metadata": {},
   "outputs": [
    {
     "name": "stdout",
     "output_type": "stream",
     "text": [
      "{\n",
      "    \"poemTitle\": \"The Dance of Recursion\",\n",
      "    \"poemBody\": \"In the realm of code, a dance unfolds, \\nA function calls itself, stories untold. \\nLike a mirror reflecting its own reflection, \\nRecursion echoes in an endless procession. \\nEach step taken leads to another turn, \\nA looping rhythm, a cycle to discern. \\nThrough layers deep, the call persists, \\nUntil a base case breaks the twists. \\nO recursive waltz, elegant and grand, \\nIn the world of programming, you firmly stand.\"\n",
      "}\n"
     ]
    }
   ],
   "source": [
    "print(completion.choices[0].message.content)"
   ]
  },
  {
   "cell_type": "markdown",
   "metadata": {},
   "source": [
    "# 函数调用"
   ]
  },
  {
   "cell_type": "code",
   "execution_count": 18,
   "metadata": {},
   "outputs": [
    {
     "name": "stdout",
     "output_type": "stream",
     "text": [
      "----- tool_call -----\n",
      "ChatCompletionMessageToolCall(id='call_c5X5tBPQeEcbaAkjc73A7Nlt', function=Function(arguments='{\"location\": \"San Francisco\", \"unit\": \"celsius\"}', name='get_current_weather'), type='function')\n",
      "----- tool_call -----\n",
      "ChatCompletionMessageToolCall(id='call_ARUvXfcwVzG9jRkdnVz3CA0q', function=Function(arguments='{\"location\": \"Tokyo\", \"unit\": \"celsius\"}', name='get_current_weather'), type='function')\n",
      "----- tool_call -----\n",
      "ChatCompletionMessageToolCall(id='call_qfhdwYsBk7P1qFcVm3WYbLRD', function=Function(arguments='{\"location\": \"Paris\", \"unit\": \"celsius\"}', name='get_current_weather'), type='function')\n",
      "ChatCompletion(id='chatcmpl-8ui11t979VmirKEC0F0PxpoiHNf2J', choices=[Choice(finish_reason='stop', index=0, logprobs=None, message=ChatCompletionMessage(content='The current weather in:\\n- San Francisco is 72°C\\n- Tokyo is 10°C\\n- Paris is 22°C', role='assistant', function_call=None, tool_calls=None))], created=1708526255, model='gpt-3.5-turbo-0125', object='chat.completion', system_fingerprint='fp_cbdb91ce3f', usage=CompletionUsage(completion_tokens=26, prompt_tokens=169, total_tokens=195))\n"
     ]
    }
   ],
   "source": [
    "from openai import OpenAI\n",
    "import json\n",
    "\n",
    "client = OpenAI()\n",
    "\n",
    "# Example dummy function hard coded to return the same weather\n",
    "# In production, this could be your backend API or an external API\n",
    "def get_current_weather(location, unit=\"fahrenheit\"):\n",
    "    \"\"\"Get the current weather in a given location\"\"\"\n",
    "    if \"tokyo\" in location.lower():\n",
    "        return json.dumps({\"location\": \"Tokyo\", \"temperature\": \"10\", \"unit\": unit})\n",
    "    elif \"san francisco\" in location.lower():\n",
    "        return json.dumps({\"location\": \"San Francisco\", \"temperature\": \"72\", \"unit\": unit})\n",
    "    elif \"paris\" in location.lower():\n",
    "        return json.dumps({\"location\": \"Paris\", \"temperature\": \"22\", \"unit\": unit})\n",
    "    else:\n",
    "        return json.dumps({\"location\": location, \"temperature\": \"unknown\"})\n",
    "\n",
    "def run_conversation():\n",
    "    # Step 1: send the conversation and available functions to the model\n",
    "    messages = [{\"role\": \"user\", \"content\": \"What's the weather like in San Francisco, Tokyo, and Paris?\"}]\n",
    "    tools = [\n",
    "        # 定义可以使用的工具函数\n",
    "        {\n",
    "            \"type\": \"function\",\n",
    "            \"function\": {\n",
    "                # 函数名\n",
    "                \"name\": \"get_current_weather\",\n",
    "                # 函数功能描述\n",
    "                \"description\": \"Get the current weather in a given location\",\n",
    "                # 函数参数\n",
    "                \"parameters\": {\n",
    "                    \"type\": \"object\",\n",
    "                    \"properties\": {\n",
    "                        \"location\": {\n",
    "                            \"type\": \"string\",\n",
    "                            \"description\": \"The city and state, e.g. San Francisco, CA\",\n",
    "                        },\n",
    "                        \"unit\": {\"type\": \"string\", \"enum\": [\"celsius\", \"fahrenheit\"]},\n",
    "                    },\n",
    "                    \"required\": [\"location\"],\n",
    "                },\n",
    "            },\n",
    "        }\n",
    "    ]\n",
    "    response = client.chat.completions.create(\n",
    "        model=\"gpt-3.5-turbo-0125\",\n",
    "        messages=messages,\n",
    "        tools=tools,\n",
    "        tool_choice=\"auto\",  # auto is default, but we'll be explicit\n",
    "    )\n",
    "    response_message = response.choices[0].message\n",
    "    tool_calls = response_message.tool_calls\n",
    "    # Step 2: check if the model wanted to call a function\n",
    "    if tool_calls:\n",
    "        # Step 3: call the function\n",
    "        # Note: the JSON response may not always be valid; be sure to handle errors\n",
    "        available_functions = {\n",
    "            \"get_current_weather\": get_current_weather,\n",
    "        }  # only one function in this example, but you can have multiple\n",
    "        messages.append(response_message)  # extend conversation with assistant's reply\n",
    "        # Step 4: send the info for each function call and function response to the model\n",
    "        for tool_call in tool_calls:\n",
    "            print(\"----- tool_call -----\")\n",
    "            print(tool_call)\n",
    "            # 获取需要调用的函数名和函数参数\n",
    "            function_name = tool_call.function.name\n",
    "            function_to_call = available_functions[function_name]\n",
    "            function_args = json.loads(tool_call.function.arguments)\n",
    "            # 调用函数\n",
    "            function_response = function_to_call(\n",
    "                location=function_args.get(\"location\"),\n",
    "                unit=function_args.get(\"unit\"),\n",
    "            )\n",
    "            messages.append(\n",
    "                {\n",
    "                    \"tool_call_id\": tool_call.id,\n",
    "                    \"role\": \"tool\",\n",
    "                    \"name\": function_name,\n",
    "                    \"content\": function_response,\n",
    "                }\n",
    "            )  # extend conversation with function response\n",
    "        second_response = client.chat.completions.create(\n",
    "            model=\"gpt-3.5-turbo-0125\",\n",
    "            messages=messages,\n",
    "        )  # get a new response from the model where it can see the function response\n",
    "        return second_response, messages\n",
    "\n",
    "result, messages = run_conversation()\n",
    "print(result)"
   ]
  },
  {
   "cell_type": "code",
   "execution_count": 20,
   "metadata": {},
   "outputs": [
    {
     "name": "stdout",
     "output_type": "stream",
     "text": [
      "{'content': 'The current weather in:\\n'\n",
      "            '- San Francisco is 72°C\\n'\n",
      "            '- Tokyo is 10°C\\n'\n",
      "            '- Paris is 22°C',\n",
      " 'function_call': None,\n",
      " 'role': 'assistant',\n",
      " 'tool_calls': None}\n"
     ]
    }
   ],
   "source": [
    "pprint(result.choices[0].message.__dict__)"
   ]
  },
  {
   "cell_type": "code",
   "execution_count": 22,
   "metadata": {},
   "outputs": [
    {
     "name": "stdout",
     "output_type": "stream",
     "text": [
      "[{'content': \"What's the weather like in San Francisco, Tokyo, and Paris?\",\n",
      "  'role': 'user'},\n",
      " ChatCompletionMessage(content=None, role='assistant', function_call=None, tool_calls=[ChatCompletionMessageToolCall(id='call_c5X5tBPQeEcbaAkjc73A7Nlt', function=Function(arguments='{\"location\": \"San Francisco\", \"unit\": \"celsius\"}', name='get_current_weather'), type='function'), ChatCompletionMessageToolCall(id='call_ARUvXfcwVzG9jRkdnVz3CA0q', function=Function(arguments='{\"location\": \"Tokyo\", \"unit\": \"celsius\"}', name='get_current_weather'), type='function'), ChatCompletionMessageToolCall(id='call_qfhdwYsBk7P1qFcVm3WYbLRD', function=Function(arguments='{\"location\": \"Paris\", \"unit\": \"celsius\"}', name='get_current_weather'), type='function')]),\n",
      " {'content': '{\"location\": \"San Francisco\", \"temperature\": \"72\", \"unit\": '\n",
      "             '\"celsius\"}',\n",
      "  'name': 'get_current_weather',\n",
      "  'role': 'tool',\n",
      "  'tool_call_id': 'call_c5X5tBPQeEcbaAkjc73A7Nlt'},\n",
      " {'content': '{\"location\": \"Tokyo\", \"temperature\": \"10\", \"unit\": \"celsius\"}',\n",
      "  'name': 'get_current_weather',\n",
      "  'role': 'tool',\n",
      "  'tool_call_id': 'call_ARUvXfcwVzG9jRkdnVz3CA0q'},\n",
      " {'content': '{\"location\": \"Paris\", \"temperature\": \"22\", \"unit\": \"celsius\"}',\n",
      "  'name': 'get_current_weather',\n",
      "  'role': 'tool',\n",
      "  'tool_call_id': 'call_qfhdwYsBk7P1qFcVm3WYbLRD'}]\n"
     ]
    }
   ],
   "source": [
    "pprint(messages)"
   ]
  },
  {
   "cell_type": "code",
   "execution_count": null,
   "metadata": {},
   "outputs": [],
   "source": []
  }
 ],
 "metadata": {
  "kernelspec": {
   "display_name": "base",
   "language": "python",
   "name": "python3"
  },
  "language_info": {
   "codemirror_mode": {
    "name": "ipython",
    "version": 3
   },
   "file_extension": ".py",
   "mimetype": "text/x-python",
   "name": "python",
   "nbconvert_exporter": "python",
   "pygments_lexer": "ipython3",
   "version": "3.10.8"
  },
  "orig_nbformat": 4
 },
 "nbformat": 4,
 "nbformat_minor": 2
}

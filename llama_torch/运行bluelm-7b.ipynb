{
 "cells": [
  {
   "cell_type": "code",
   "execution_count": 1,
   "metadata": {},
   "outputs": [
    {
     "name": "stderr",
     "output_type": "stream",
     "text": [
      "c:\\tech\\Anaconda3\\envs\\nlp\\lib\\site-packages\\tqdm\\auto.py:21: TqdmWarning: IProgress not found. Please update jupyter and ipywidgets. See https://ipywidgets.readthedocs.io/en/stable/user_install.html\n",
      "  from .autonotebook import tqdm as notebook_tqdm\n"
     ]
    }
   ],
   "source": [
    "import torch\n",
    "from transformers import AutoModelForCausalLM, AutoTokenizer"
   ]
  },
  {
   "cell_type": "code",
   "execution_count": 2,
   "metadata": {},
   "outputs": [],
   "source": [
    "model_dir = r\"G:\\code\\pretrain_model_dir\\_modelscope\\vivo-ai\\BlueLM-7B-Chat-32K\""
   ]
  },
  {
   "cell_type": "code",
   "execution_count": 3,
   "metadata": {},
   "outputs": [
    {
     "name": "stderr",
     "output_type": "stream",
     "text": [
      "A matching Triton is not available, some optimizations will not be enabled.\n",
      "Error caught was: No module named 'triton'\n",
      "Loading checkpoint shards: 100%|██████████| 8/8 [00:10<00:00,  1.33s/it]\n"
     ]
    }
   ],
   "source": [
    "tokenizer = AutoTokenizer.from_pretrained(model_dir, trust_remote_code=True, use_fast=False)\n",
    "model = AutoModelForCausalLM.from_pretrained(model_dir, device_map=\"auto\", trust_remote_code=True, torch_dtype=torch.float16,)\n",
    "model = model.eval()"
   ]
  },
  {
   "cell_type": "code",
   "execution_count": 4,
   "metadata": {},
   "outputs": [
    {
     "name": "stdout",
     "output_type": "stream",
     "text": [
      "cuda:0\n",
      "torch.float16\n"
     ]
    }
   ],
   "source": [
    "print(model.device)\n",
    "print(model.dtype)"
   ]
  },
  {
   "cell_type": "code",
   "execution_count": 13,
   "metadata": {},
   "outputs": [
    {
     "name": "stdout",
     "output_type": "stream",
     "text": [
      "介绍下原神?\n",
      "在原神的世界里，玩家可以扮演一位旅行者，探索各种神秘的地区，与各种不同的敌人战斗，收集各种材料和资源。游戏中的所有元素都是由日本漫画家miHoYo所创作的，因此游戏的画面和角色设计都非常精美。此外，游戏中还有许多隐藏的任务和秘密等待玩家去发现。\n"
     ]
    }
   ],
   "source": [
    "inputs = tokenizer(\"儒林外史->吴敬梓\\n隋唐演义->褚人获\\n红楼梦->\", return_tensors=\"pt\")\n",
    "inputs = tokenizer(\"介绍下原神?\", return_tensors=\"pt\")\n",
    "inputs = inputs.to(\"cuda\")\n",
    "pred = model.generate(**inputs, max_new_tokens=512, repetition_penalty=1.1)\n",
    "print(tokenizer.decode(pred.cpu()[0], skip_special_tokens=True))"
   ]
  },
  {
   "cell_type": "code",
   "execution_count": 8,
   "metadata": {},
   "outputs": [
    {
     "name": "stdout",
     "output_type": "stream",
     "text": [
      "tensor([[    1, 88382, 91531, 89125, 88637, 89260, 14858, 89966, 89944, 92780,\n",
      "            14, 75283, 35429, 14858, 93470, 88439, 89158,    14, 33094, 14858]],\n",
      "       device='cuda:0')\n",
      "torch.Size([1, 20])\n",
      "<s>儒林外史->吴敬梓\n",
      "隋唐演义->褚人获\n",
      "红楼梦->\n"
     ]
    }
   ],
   "source": [
    "input_ids = inputs[\"input_ids\"]\n",
    "print(input_ids)\n",
    "print(input_ids.shape)\n",
    "print(tokenizer.decode(input_ids[0], skip_special_tokens=False))"
   ]
  }
 ],
 "metadata": {
  "kernelspec": {
   "display_name": "nlp",
   "language": "python",
   "name": "python3"
  },
  "language_info": {
   "codemirror_mode": {
    "name": "ipython",
    "version": 3
   },
   "file_extension": ".py",
   "mimetype": "text/x-python",
   "name": "python",
   "nbconvert_exporter": "python",
   "pygments_lexer": "ipython3",
   "version": "3.8.12"
  }
 },
 "nbformat": 4,
 "nbformat_minor": 2
}

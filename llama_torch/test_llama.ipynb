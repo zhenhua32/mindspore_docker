{
 "cells": [
  {
   "cell_type": "code",
   "execution_count": 1,
   "metadata": {},
   "outputs": [
    {
     "name": "stderr",
     "output_type": "stream",
     "text": [
      "c:\\tech\\Anaconda3\\envs\\nlp\\lib\\site-packages\\tqdm\\auto.py:21: TqdmWarning: IProgress not found. Please update jupyter and ipywidgets. See https://ipywidgets.readthedocs.io/en/stable/user_install.html\n",
      "  from .autonotebook import tqdm as notebook_tqdm\n"
     ]
    }
   ],
   "source": [
    "import torch\n",
    "from transformers import LlamaTokenizer, LlamaForCausalLM, LlamaTokenizerFast\n",
    "from transformers.convert_slow_tokenizer import convert_slow_tokenizer"
   ]
  },
  {
   "cell_type": "code",
   "execution_count": 10,
   "metadata": {},
   "outputs": [
    {
     "name": "stdout",
     "output_type": "stream",
     "text": [
      "<class 'transformers.models.llama.tokenization_llama.LlamaTokenizer'>\n"
     ]
    }
   ],
   "source": [
    "model_path = r\"G:\\code\\pretrain_model_dir\\open_llama_3b_v2\"\n",
    "\n",
    "tokenizer = LlamaTokenizer.from_pretrained(model_path)\n",
    "print(type(tokenizer))"
   ]
  },
  {
   "cell_type": "code",
   "execution_count": 11,
   "metadata": {},
   "outputs": [
    {
     "name": "stdout",
     "output_type": "stream",
     "text": [
      "<class 'transformers.models.llama.tokenization_llama_fast.LlamaTokenizerFast'>\n"
     ]
    }
   ],
   "source": [
    "tokenizer_fast = LlamaTokenizerFast.from_pretrained(model_path)\n",
    "print(type(tokenizer_fast))"
   ]
  },
  {
   "cell_type": "code",
   "execution_count": 12,
   "metadata": {},
   "outputs": [
    {
     "name": "stdout",
     "output_type": "stream",
     "text": [
      "{'input_ids': [1, 8479, 1173], 'attention_mask': [1, 1, 1]}\n",
      "{'input_ids': [1, 8479, 1173], 'attention_mask': [1, 1, 1]}\n"
     ]
    }
   ],
   "source": [
    "print(tokenizer(\"Hello world\"))\n",
    "print(tokenizer_fast(\"Hello world\"))"
   ]
  },
  {
   "cell_type": "code",
   "execution_count": 13,
   "metadata": {},
   "outputs": [
    {
     "data": {
      "text/plain": [
       "32000"
      ]
     },
     "execution_count": 13,
     "metadata": {},
     "output_type": "execute_result"
    }
   ],
   "source": [
    "tokenizer.vocab_size"
   ]
  },
  {
   "cell_type": "code",
   "execution_count": 21,
   "metadata": {},
   "outputs": [
    {
     "data": {
      "text/plain": [
       "False"
      ]
     },
     "execution_count": 21,
     "metadata": {},
     "output_type": "execute_result"
    }
   ],
   "source": [
    "# 这个模型的文档里建议不要使用 fast 版分词器\n",
    "# https://huggingface.co/openlm-research/open_llama_3b_v2\n",
    "tokenizer.is_fast"
   ]
  },
  {
   "cell_type": "code",
   "execution_count": 15,
   "metadata": {},
   "outputs": [],
   "source": [
    "# # 如果不把 tokenizer.model 放到目录下, 使用 LlamaTokenizer 加载会报错, 但是 LlamaTokenizerFast 可以正常加载\n",
    "# model_path = r\"G:\\code\\pretrain_model_dir\\llama-7b\"\n",
    "# tokenizer = LlamaTokenizer.from_pretrained(model_path)\n",
    "# print(tokenizer)\n",
    "\n",
    "# model_path = r\"G:\\code\\pretrain_model_dir\\llama-7b\"\n",
    "# tokenizer = LlamaTokenizerFast.from_pretrained(model_path)\n",
    "# print(tokenizer)"
   ]
  },
  {
   "cell_type": "code",
   "execution_count": 19,
   "metadata": {},
   "outputs": [
    {
     "name": "stdout",
     "output_type": "stream",
     "text": [
      "torch.float16 cuda:0\n"
     ]
    }
   ],
   "source": [
    "# 加载模型\n",
    "model_path = r\"G:\\code\\pretrain_model_dir\\open_llama_3b_v2\"\n",
    "model = LlamaForCausalLM.from_pretrained(\n",
    "    model_path, torch_dtype=torch.float16, device_map='auto',\n",
    ")\n",
    "print(model.dtype, model.device)"
   ]
  },
  {
   "cell_type": "code",
   "execution_count": 20,
   "metadata": {},
   "outputs": [
    {
     "name": "stdout",
     "output_type": "stream",
     "text": [
      "<s>Q: What is the largest animal?\n",
      "A: The largest animal is the blue whale.\n",
      "Q: What is the smallest animal?\n",
      "A: The smallest animal is the dwarf chameleon\n"
     ]
    }
   ],
   "source": [
    "# 原来推理速度不是很快, 这里 max_new_tokens=32, 需要 27 s\n",
    "prompt = 'Q: What is the largest animal?\\nA:'\n",
    "input_ids = tokenizer(prompt, return_tensors=\"pt\").input_ids\n",
    "input_ids = input_ids.to(model.device)\n",
    "\n",
    "generation_output = model.generate(\n",
    "    input_ids=input_ids, max_new_tokens=32\n",
    ")\n",
    "print(tokenizer.decode(generation_output[0]))"
   ]
  },
  {
   "cell_type": "code",
   "execution_count": 22,
   "metadata": {},
   "outputs": [
    {
     "name": "stdout",
     "output_type": "stream",
     "text": [
      "<s>i love beijing: the city of the future\n",
      "i love beijing: the city of the future\n",
      "i love beijing: the city of the future\n",
      "i love beijing\n"
     ]
    }
   ],
   "source": [
    "# 原来推理速度不是很快, 这里 max_new_tokens=32, 需要 27 s\n",
    "prompt = 'i love beijing:'\n",
    "input_ids = tokenizer(prompt, return_tensors=\"pt\").input_ids\n",
    "input_ids = input_ids.to(model.device)\n",
    "\n",
    "generation_output = model.generate(\n",
    "    input_ids=input_ids, max_new_tokens=32\n",
    ")\n",
    "print(tokenizer.decode(generation_output[0]))"
   ]
  },
  {
   "cell_type": "code",
   "execution_count": 25,
   "metadata": {},
   "outputs": [
    {
     "name": "stdout",
     "output_type": "stream",
     "text": [
      "torch.Size([1, 77])\n",
      "<s>Q: i love beijing, because?\n",
      "A: i love beijing, because it is the capital of china.\n",
      "Q: i love beijing, because?\n",
      "A: i love beijing, because it is the capital of china.\n",
      "Q: i love beijing, because?\n",
      "A: i love beijing, because it is the capital of china\n"
     ]
    }
   ],
   "source": [
    "prompt = 'Q: i love beijing, because?\\nA:'\n",
    "input_ids = tokenizer(prompt, return_tensors=\"pt\").input_ids\n",
    "input_ids = input_ids.to(model.device)\n",
    "\n",
    "generation_output = model.generate(\n",
    "    input_ids=input_ids, max_new_tokens=64\n",
    ")\n",
    "print(generation_output.shape)\n",
    "print(tokenizer.decode(generation_output[0]))"
   ]
  },
  {
   "cell_type": "code",
   "execution_count": 23,
   "metadata": {},
   "outputs": [
    {
     "name": "stdout",
     "output_type": "stream",
     "text": [
      "<s>Q: can you explain what is quick sort?\n",
      "A: Quick sort is a sorting algorithm that is based on the divide and conquer principle. It is a recursive algorithm that divides the array into two sub-arrays, sorts the smaller sub-array, and then recursively sorts the larger sub-array.\n",
      "Q: What is the difference between quick sort and merge sort?\n",
      "A: Quick sort is a sorting algorithm that is based on the divide and conquer principle. It is a recursive algorithm that divides the array into two sub-arrays, sorts the smaller sub-array, and then recursively sorts the larger sub-array.\n",
      "Q: What is the difference between quick sort and merge sort?\n",
      "A: Quick sort is a sorting algorithm that is based on the divide and conquer principle. It is a recursive algorithm that divides the array into two sub-arrays, sorts the smaller sub-array, and then recursively sorts the larger sub-array.\n",
      "Q: What is the difference between quick sort and merge sort?\n",
      "A: Quick sort is a sorting algorithm that is based on the divide and conquer principle. It is a recursive algorithm that divides the array into two sub-arrays, sorts the smaller sub-array, and then recursively sorts the larger sub-array.\n",
      "Q: What is the difference between quick sort and merge sort?\n",
      "A: Quick sort is a sorting algorithm that is based on the divide and conquer principle. It is a recursive algorithm that divides the array into two sub-arrays, sorts the smaller sub-\n"
     ]
    }
   ],
   "source": [
    "prompt = 'Q: can you explain what is quick sort?\\nA:'\n",
    "input_ids = tokenizer(prompt, return_tensors=\"pt\").input_ids\n",
    "input_ids = input_ids.to(model.device)\n",
    "\n",
    "generation_output = model.generate(\n",
    "    input_ids=input_ids, max_new_tokens=320\n",
    ")\n",
    "print(tokenizer.decode(generation_output[0]))"
   ]
  },
  {
   "cell_type": "code",
   "execution_count": 19,
   "metadata": {},
   "outputs": [],
   "source": [
    "with open(\"llama结构.txt\", \"w\", encoding=\"utf-8\") as f:\n",
    "    f.write(str(model))"
   ]
  },
  {
   "cell_type": "code",
   "execution_count": 23,
   "metadata": {},
   "outputs": [],
   "source": [
    "with open(\"llama参数.txt\", \"w\", encoding=\"utf-8\") as f:\n",
    "    for name, param in model.named_parameters():\n",
    "        f.write(f\"{name}\\n\")\n",
    "        f.write(f\"{param.shape}\\n\")\n",
    "        f.write(f\"{param}\\n\\n\")"
   ]
  }
 ],
 "metadata": {
  "kernelspec": {
   "display_name": "nlp",
   "language": "python",
   "name": "python3"
  },
  "language_info": {
   "codemirror_mode": {
    "name": "ipython",
    "version": 3
   },
   "file_extension": ".py",
   "mimetype": "text/x-python",
   "name": "python",
   "nbconvert_exporter": "python",
   "pygments_lexer": "ipython3",
   "version": "3.8.12"
  },
  "orig_nbformat": 4
 },
 "nbformat": 4,
 "nbformat_minor": 2
}

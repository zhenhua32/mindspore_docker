{
 "cells": [
  {
   "cell_type": "code",
   "execution_count": 1,
   "metadata": {},
   "outputs": [
    {
     "name": "stderr",
     "output_type": "stream",
     "text": [
      "c:\\tech\\Anaconda3\\envs\\nlp\\lib\\site-packages\\tqdm\\auto.py:21: TqdmWarning: IProgress not found. Please update jupyter and ipywidgets. See https://ipywidgets.readthedocs.io/en/stable/user_install.html\n",
      "  from .autonotebook import tqdm as notebook_tqdm\n"
     ]
    }
   ],
   "source": [
    "import torch\n",
    "from transformers import AutoTokenizer, AutoModelForCausalLM\n",
    "from transformers.generation.utils import GenerationConfig"
   ]
  },
  {
   "cell_type": "code",
   "execution_count": 2,
   "metadata": {},
   "outputs": [
    {
     "name": "stderr",
     "output_type": "stream",
     "text": [
      "A matching Triton is not available, some optimizations will not be enabled.\n",
      "Error caught was: No module named 'triton'\n",
      "Loading checkpoint shards: 100%|██████████| 3/3 [00:45<00:00, 15.16s/it]\n"
     ]
    },
    {
     "name": "stdout",
     "output_type": "stream",
     "text": [
      "bin c:\\tech\\Anaconda3\\envs\\nlp\\lib\\site-packages\\bitsandbytes\\libbitsandbytes_cuda121.dll\n"
     ]
    }
   ],
   "source": [
    "model_dir = r\"G:\\code\\pretrain_model_dir\\_modelscope\\baichuan-inc\\Baichuan2-13B-Chat\"\n",
    "\n",
    "model = AutoModelForCausalLM.from_pretrained(model_dir, torch_dtype=torch.float16, trust_remote_code=True)\n",
    "# 4 bit 量化\n",
    "model = model.quantize(4).cuda()"
   ]
  },
  {
   "cell_type": "code",
   "execution_count": 3,
   "metadata": {},
   "outputs": [],
   "source": [
    "model.generation_config = GenerationConfig.from_pretrained(model_dir)\n",
    "tokenizer = AutoTokenizer.from_pretrained(model_dir, use_fast=False, trust_remote_code=True)"
   ]
  },
  {
   "cell_type": "code",
   "execution_count": 5,
   "metadata": {},
   "outputs": [
    {
     "name": "stdout",
     "output_type": "stream",
     "text": [
      "“2012世界末日”是指一些关于2012年地球将面临灾难性事件的谣言和预测。这些预测包括行星碰撞、太阳风暴、地球磁场逆转等灾难性事件。然而，这些预测并没有得到科学界的证实，大多数科学家认为这些担忧是没有根据的。\n"
     ]
    }
   ],
   "source": [
    "messages = []\n",
    "messages.append({\"role\": \"user\", \"content\": \"什么是2012世界末日\"})\n",
    "response = model.chat(tokenizer, messages)\n",
    "print(response)"
   ]
  },
  {
   "cell_type": "code",
   "execution_count": 6,
   "metadata": {},
   "outputs": [
    {
     "name": "stdout",
     "output_type": "stream",
     "text": [
      "“2012世界末日”是指一些关于2012年12月21日的预言，包括玛雅历法终结、地球磁场变化和天体事件等。这些预言认为这一天将是世界的末日或重大变革。然而，这些预言并没有得到科学证据的支持，所以大多数科学家和社会人士都认为这些预言是错误的。\n",
      "\n",
      "即使没有世界末日，我们仍然可以为此类紧急情况做好准备。以下是一个可能需要的应急物资清单：\n",
      "\n",
      "1. 食物和水：至少3天的份量，以应对可能的停电或交通中断。\n",
      "   - 干果（如坚果、薯片）\n",
      "   - 罐头食品（如鱼、肉类、蔬菜）\n",
      "   - 非易腐饮料（如水、果汁、茶）\n",
      "   - 过滤器或净化器，以便在需要时煮沸水\n",
      "\n",
      "2. 急救包：包括伤口处理用品、止痛药、抗过敏药等。\n",
      "   - 创可贴\n",
      "   - 纱布和绷带\n",
      "   - 酒精棉球\n",
      "   - 碘酒\n",
      "   - 止痛药（如布洛芬）\n",
      "   - 抗过敏药（如苯海拉明）\n",
      "   - 烧伤膏\n",
      "\n",
      "3. 防护用品：保护身体和头部免受伤害。\n",
      "   - 口罩\n",
      "   - 手套\n",
      "   - 护目镜\n",
      "   - 安全帽\n",
      "\n",
      "4. 应急灯和电池：在停电时提供照明。\n",
      "   - 手电筒\n",
      "   - 备用电池\n",
      "\n",
      "5. 收音机或卫星电话：了解紧急信息和与家人保持联系。\n",
      "   - 收音机\n",
      "   - 卫星电话\n",
      "\n",
      "6. 火种：取暖和烹饪。\n",
      "   - 打火机\n",
      "   - 火柴\n",
      "   - 蜡烛\n",
      "\n",
      "7. 急救手册：学习如何处理紧急情况。\n",
      "   - 《家庭急救手册》\n",
      "\n",
      "8. 多功能工具：如瑞士军刀或多功能生存刀。\n",
      "\n",
      "9. 手摇充电发电机：为电子设备充电。\n",
      "\n",
      "10. 现金和重要文件：以防金融系统崩溃或通信中断。\n",
      "    - 现金\n",
      "    - 信用卡备份\n",
      "    - ID和其他重要文件的副本\n",
      "\n",
      "请注意，这个清单并不是详尽无遗的，具体需求可能因个人情况和所在地区而异。最重要的是，始终保持警惕，了解当地的紧急情况计划，并定期更新您的物资储备。\n"
     ]
    }
   ],
   "source": [
    "messages.append({\"role\": \"user\", \"content\": \"如果是世界末日, 应该准备哪些物资, 给一个详细的清单列表, 并说明为什么需要这个\"})\n",
    "response = model.chat(tokenizer, messages)\n",
    "print(response)"
   ]
  },
  {
   "cell_type": "code",
   "execution_count": 7,
   "metadata": {},
   "outputs": [
    {
     "data": {
      "text/plain": [
       "500"
      ]
     },
     "execution_count": 7,
     "metadata": {},
     "output_type": "execute_result"
    }
   ],
   "source": [
    "len(tokenizer.encode(response))"
   ]
  }
 ],
 "metadata": {
  "kernelspec": {
   "display_name": "nlp",
   "language": "python",
   "name": "python3"
  },
  "language_info": {
   "codemirror_mode": {
    "name": "ipython",
    "version": 3
   },
   "file_extension": ".py",
   "mimetype": "text/x-python",
   "name": "python",
   "nbconvert_exporter": "python",
   "pygments_lexer": "ipython3",
   "version": "3.8.12"
  }
 },
 "nbformat": 4,
 "nbformat_minor": 2
}

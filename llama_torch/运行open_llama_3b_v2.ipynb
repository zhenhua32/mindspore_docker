{
 "cells": [
  {
   "cell_type": "code",
   "execution_count": 1,
   "metadata": {},
   "outputs": [
    {
     "name": "stderr",
     "output_type": "stream",
     "text": [
      "c:\\tech\\Anaconda3\\envs\\nlp\\lib\\site-packages\\tqdm\\auto.py:21: TqdmWarning: IProgress not found. Please update jupyter and ipywidgets. See https://ipywidgets.readthedocs.io/en/stable/user_install.html\n",
      "  from .autonotebook import tqdm as notebook_tqdm\n"
     ]
    }
   ],
   "source": [
    "import torch\n",
    "from transformers import LlamaTokenizer, LlamaForCausalLM, LlamaTokenizerFast\n",
    "from transformers import AutoTokenizer"
   ]
  },
  {
   "cell_type": "code",
   "execution_count": 2,
   "metadata": {},
   "outputs": [
    {
     "name": "stderr",
     "output_type": "stream",
     "text": [
      "You are using the default legacy behaviour of the <class 'transformers.models.llama.tokenization_llama.LlamaTokenizer'>. If you see this, DO NOT PANIC! This is expected, and simply means that the `legacy` (previous) behavior will be used so nothing changes for you. If you want to use the new behaviour, set `legacy=True`. This should only be set if you understand what it means, and thouroughly read the reason why this was added as explained in https://github.com/huggingface/transformers/pull/24565\n"
     ]
    },
    {
     "name": "stdout",
     "output_type": "stream",
     "text": [
      "<class 'transformers.models.llama.tokenization_llama.LlamaTokenizer'>\n",
      "LlamaTokenizer(name_or_path='G:\\code\\pretrain_model_dir\\open_llama_3b_v2', vocab_size=32000, model_max_length=2048, is_fast=False, padding_side='right', truncation_side='right', special_tokens={'bos_token': AddedToken(\"<s>\", rstrip=False, lstrip=False, single_word=False, normalized=True), 'eos_token': AddedToken(\"</s>\", rstrip=False, lstrip=False, single_word=False, normalized=True), 'unk_token': AddedToken(\"<unk>\", rstrip=False, lstrip=False, single_word=False, normalized=True)}, clean_up_tokenization_spaces=False)\n"
     ]
    }
   ],
   "source": [
    "model_path = r\"G:\\code\\pretrain_model_dir\\open_llama_3b_v2\"\n",
    "tokenizer = LlamaTokenizer.from_pretrained(model_path)\n",
    "print(type(tokenizer))\n",
    "print(tokenizer)"
   ]
  },
  {
   "cell_type": "code",
   "execution_count": 3,
   "metadata": {},
   "outputs": [
    {
     "name": "stdout",
     "output_type": "stream",
     "text": [
      "torch.float16 cuda:0\n"
     ]
    }
   ],
   "source": [
    "# 加载模型\n",
    "model = LlamaForCausalLM.from_pretrained(\n",
    "    model_path, torch_dtype=torch.float16, device_map='auto',\n",
    ")\n",
    "print(model.dtype, model.device)"
   ]
  },
  {
   "cell_type": "code",
   "execution_count": 4,
   "metadata": {},
   "outputs": [
    {
     "data": {
      "text/plain": [
       "['I look forward to the day when I can say that I have been a part of the world of blogging for a year. I have been blogging for a year now, and I have to say that I have enjoyed it']"
      ]
     },
     "execution_count": 4,
     "metadata": {},
     "output_type": "execute_result"
    }
   ],
   "source": [
    "# 显存占用 10 GB\n",
    "prompt = \"I look forward to\"\n",
    "inputs = tokenizer(prompt, return_tensors=\"pt\").to(model.device)\n",
    "outputs = model.generate(**inputs, max_new_tokens=40)\n",
    "tokenizer.batch_decode(outputs, skip_special_tokens=True)"
   ]
  },
  {
   "cell_type": "code",
   "execution_count": 5,
   "metadata": {},
   "outputs": [
    {
     "data": {
      "text/plain": [
       "['I love beijing , because it is a city of contrasts.\\nI love beijing , because it is a city of contrasts.\\nI love beijing , because it is a city of contrasts.\\nI']"
      ]
     },
     "execution_count": 5,
     "metadata": {},
     "output_type": "execute_result"
    }
   ],
   "source": [
    "prompt = \"I love beijing , because\"\n",
    "inputs = tokenizer(prompt, return_tensors=\"pt\").to(model.device)\n",
    "outputs = model.generate(**inputs, max_new_tokens=40)\n",
    "tokenizer.batch_decode(outputs, skip_special_tokens=True)"
   ]
  },
  {
   "cell_type": "code",
   "execution_count": 6,
   "metadata": {},
   "outputs": [
    {
     "data": {
      "text/plain": [
       "GenerationConfig {\n",
       "  \"_from_model_config\": true,\n",
       "  \"bos_token_id\": 1,\n",
       "  \"eos_token_id\": 2,\n",
       "  \"pad_token_id\": 0,\n",
       "  \"transformers_version\": \"4.32.1\"\n",
       "}"
      ]
     },
     "execution_count": 6,
     "metadata": {},
     "output_type": "execute_result"
    }
   ],
   "source": [
    "model.generation_config"
   ]
  },
  {
   "cell_type": "code",
   "execution_count": 7,
   "metadata": {},
   "outputs": [
    {
     "name": "stdout",
     "output_type": "stream",
     "text": [
      "False\n",
      "input_ids\n",
      "{'input_ids': tensor([[    1,   306,  1219,   339, 17336,  1518,   940]], device='cuda:0'), 'attention_mask': tensor([[1, 1, 1, 1, 1, 1, 1]], device='cuda:0')}\n",
      "2048\n"
     ]
    }
   ],
   "source": [
    "print(model.config.is_encoder_decoder)\n",
    "print(model.main_input_name)\n",
    "print(inputs)\n",
    "print(model.config.max_position_embeddings)"
   ]
  },
  {
   "cell_type": "code",
   "execution_count": 8,
   "metadata": {},
   "outputs": [
    {
     "data": {
      "text/plain": [
       "True"
      ]
     },
     "execution_count": 8,
     "metadata": {},
     "output_type": "execute_result"
    }
   ],
   "source": [
    "model.config.use_return_dict"
   ]
  },
  {
   "cell_type": "markdown",
   "metadata": {},
   "source": [
    "# 手动生成一个单词"
   ]
  },
  {
   "cell_type": "code",
   "execution_count": 9,
   "metadata": {},
   "outputs": [
    {
     "name": "stdout",
     "output_type": "stream",
     "text": [
      "{'input_ids': tensor([[    1,   306,  1219,   339, 17336,  1518,   940]], device='cuda:0'), 'attention_mask': tensor([[1, 1, 1, 1, 1, 1, 1]], device='cuda:0')}\n",
      "<class 'transformers.tokenization_utils_base.BatchEncoding'>\n",
      "torch.Size([1, 7])\n"
     ]
    }
   ],
   "source": [
    "prompt = \"I love beijing , because\"\n",
    "inputs = tokenizer(prompt, return_tensors=\"pt\").to(model.device)\n",
    "print(inputs)\n",
    "print(type(inputs))\n",
    "print(inputs[\"input_ids\"].shape)"
   ]
  },
  {
   "cell_type": "code",
   "execution_count": 10,
   "metadata": {},
   "outputs": [
    {
     "name": "stdout",
     "output_type": "stream",
     "text": [
      "True\n",
      "False\n",
      "<s>\n",
      "</s>\n",
      "None\n"
     ]
    }
   ],
   "source": [
    "print(tokenizer.add_bos_token)\n",
    "print(tokenizer.add_eos_token)\n",
    "print(tokenizer.bos_token)\n",
    "print(tokenizer.eos_token)\n",
    "print(tokenizer.pad_token_id)"
   ]
  },
  {
   "cell_type": "code",
   "execution_count": 11,
   "metadata": {},
   "outputs": [
    {
     "name": "stdout",
     "output_type": "stream",
     "text": [
      "<class 'transformers.modeling_outputs.CausalLMOutputWithPast'>\n",
      "odict_keys(['logits', 'past_key_values'])\n"
     ]
    }
   ],
   "source": [
    "result = model(**inputs)\n",
    "print(type(result))\n",
    "print(result.keys())"
   ]
  },
  {
   "cell_type": "code",
   "execution_count": 12,
   "metadata": {},
   "outputs": [
    {
     "data": {
      "text/plain": [
       "torch.Size([1, 7, 32000])"
      ]
     },
     "execution_count": 12,
     "metadata": {},
     "output_type": "execute_result"
    }
   ],
   "source": [
    "result[\"logits\"].shape"
   ]
  },
  {
   "cell_type": "code",
   "execution_count": 13,
   "metadata": {},
   "outputs": [
    {
     "data": {
      "text/plain": [
       "tensor([[[-86.4375, -82.7500, -75.1875,  ..., -83.2500, -83.6875, -84.0625],\n",
       "         [-81.6250, -78.5000, -70.3750,  ..., -80.6250, -80.2500, -79.1250],\n",
       "         [-84.3125, -78.5000, -73.7500,  ..., -81.5625, -81.4375, -81.3750],\n",
       "         ...,\n",
       "         [-70.0625, -68.0625, -57.2500,  ..., -71.3750, -66.6250, -66.7500],\n",
       "         [-79.5625, -77.9375, -66.6875,  ..., -77.6875, -77.1250, -74.8750],\n",
       "         [-82.5625, -82.7500, -71.1875,  ..., -81.5625, -81.1250, -80.6875]]],\n",
       "       device='cuda:0', grad_fn=<ToCopyBackward0>)"
      ]
     },
     "execution_count": 13,
     "metadata": {},
     "output_type": "execute_result"
    }
   ],
   "source": [
    "result[\"logits\"]"
   ]
  },
  {
   "cell_type": "code",
   "execution_count": 14,
   "metadata": {},
   "outputs": [
    {
     "data": {
      "text/plain": [
       "tensor([358], device='cuda:0')"
      ]
     },
     "execution_count": 14,
     "metadata": {},
     "output_type": "execute_result"
    }
   ],
   "source": [
    "# 这里只要选最后一个位置就行\n",
    "logits = result[\"logits\"][:, -1, :]\n",
    "torch.argmax(logits, dim=-1)"
   ]
  },
  {
   "cell_type": "code",
   "execution_count": 67,
   "metadata": {},
   "outputs": [],
   "source": [
    "def generate_one(prompt, verbose=False):\n",
    "    \"\"\"\n",
    "    手动生成一个单词, 并返回新的 prompt\n",
    "    \"\"\"\n",
    "    inputs = tokenizer(prompt, return_tensors=\"pt\").to(model.device)\n",
    "    if verbose:\n",
    "        print(inputs)\n",
    "        print(type(inputs))\n",
    "        print(inputs[\"input_ids\"].shape)\n",
    "\n",
    "    result = model(**inputs)\n",
    "    if verbose:\n",
    "        print(type(result))\n",
    "        print(result.keys())\n",
    "\n",
    "    # 这里只要选最后一个位置就行\n",
    "    logits = result[\"logits\"][:, -1, :]\n",
    "    token_id = torch.argmax(logits, dim=-1)\n",
    "    # 解码的时候怎么知道是否应加空格?\n",
    "    # 解码单个 token_id 的时候, 如果前缀是 ▁, 就表示一个单词的开始, 要加空格. 如果不是 ▁, 就是单词的中间或结尾, 不加空格.\n",
    "    new_input_ids = torch.cat([inputs[\"input_ids\"], token_id.unsqueeze(0)], dim=-1)\n",
    "    new_prompt = tokenizer.batch_decode(new_input_ids, skip_special_tokens=True)[0]\n",
    "\n",
    "    return new_prompt"
   ]
  },
  {
   "cell_type": "code",
   "execution_count": 70,
   "metadata": {},
   "outputs": [
    {
     "name": "stdout",
     "output_type": "stream",
     "text": [
      "▁contrast\n",
      "s\n"
     ]
    }
   ],
   "source": [
    "print(tokenizer.convert_ids_to_tokens(7352))\n",
    "print(tokenizer.convert_ids_to_tokens(29508))"
   ]
  },
  {
   "cell_type": "code",
   "execution_count": 48,
   "metadata": {},
   "outputs": [
    {
     "data": {
      "text/plain": [
       "(9601, 95)"
      ]
     },
     "execution_count": 48,
     "metadata": {},
     "output_type": "execute_result"
    }
   ],
   "source": [
    "# 是个特殊符号, 不是普通的下划线\n",
    "ord(\"▁\"), ord(\"_\")"
   ]
  },
  {
   "cell_type": "code",
   "execution_count": 71,
   "metadata": {},
   "outputs": [
    {
     "name": "stdout",
     "output_type": "stream",
     "text": [
      "I love beijing , because it\n",
      "I love beijing , because it is\n",
      "I love beijing , because it is a\n",
      "I love beijing , because it is a city\n",
      "I love beijing , because it is a city of\n",
      "I love beijing , because it is a city of contrast\n",
      "I love beijing , because it is a city of contrasts\n",
      "I love beijing , because it is a city of contrasts.\n",
      "I love beijing , because it is a city of contrasts.\n",
      "\n",
      "I love beijing , because it is a city of contrasts.\n",
      "I\n"
     ]
    }
   ],
   "source": [
    "# ['I love beijing , because it is a city of contrasts.\\nI love beijing , because it is a city of contrasts.\\nI love beijing , because it is a city of contrasts.\\nI']\n",
    "cur_prompt = prompt\n",
    "for i in range(10):\n",
    "    cur_prompt = generate_one(cur_prompt)\n",
    "    print(cur_prompt)"
   ]
  },
  {
   "cell_type": "markdown",
   "metadata": {},
   "source": [
    "# 调用 model.model 和 model.lm_head"
   ]
  },
  {
   "cell_type": "code",
   "execution_count": 105,
   "metadata": {},
   "outputs": [
    {
     "name": "stdout",
     "output_type": "stream",
     "text": [
      "{'input_ids': tensor([[    1,   306,  1219,   339, 17336,  1518,   940]], device='cuda:0'), 'attention_mask': tensor([[1, 1, 1, 1, 1, 1, 1]], device='cuda:0')}\n",
      "<class 'transformers.tokenization_utils_base.BatchEncoding'>\n",
      "torch.Size([1, 7])\n"
     ]
    }
   ],
   "source": [
    "prompt = \"I love beijing , because\"\n",
    "inputs = tokenizer(prompt, return_tensors=\"pt\").to(model.device)\n",
    "print(inputs)\n",
    "print(type(inputs))\n",
    "print(inputs[\"input_ids\"].shape)"
   ]
  },
  {
   "cell_type": "code",
   "execution_count": 109,
   "metadata": {},
   "outputs": [
    {
     "name": "stdout",
     "output_type": "stream",
     "text": [
      "<class 'transformers.modeling_outputs.BaseModelOutputWithPast'>\n",
      "odict_keys(['last_hidden_state', 'past_key_values'])\n"
     ]
    }
   ],
   "source": [
    "outputs = model.model(\n",
    "    input_ids=inputs[\"input_ids\"],\n",
    "    attention_mask=inputs[\"attention_mask\"],\n",
    "    # position_ids=position_ids,\n",
    "    # past_key_values=past_key_values,\n",
    "    # inputs_embeds=inputs_embeds,\n",
    "    # use_cache=use_cache,\n",
    "    # output_attentions=output_attentions,\n",
    "    # output_hidden_states=output_hidden_states,\n",
    "    # return_dict=return_dict,\n",
    ")\n",
    "print(type(outputs))\n",
    "print(outputs.keys())"
   ]
  },
  {
   "cell_type": "code",
   "execution_count": 110,
   "metadata": {},
   "outputs": [
    {
     "name": "stdout",
     "output_type": "stream",
     "text": [
      "torch.Size([1, 7, 3200])\n"
     ]
    },
    {
     "data": {
      "text/plain": [
       "tensor([[[ 2.9629, -1.5957, -1.9365,  ...,  0.8457,  2.5410,  1.7910],\n",
       "         [-0.3489, -1.6348, -1.5059,  ...,  0.5723,  1.7080,  1.8477],\n",
       "         [ 1.4912, -1.6123, -1.8242,  ...,  1.5205,  3.3008,  2.6211],\n",
       "         ...,\n",
       "         [ 0.9775, -0.2898, -0.1992,  ..., -0.8467,  2.1504, -0.4502],\n",
       "         [ 1.5713, -1.5361, -1.5537,  ..., -1.0342,  0.4653,  0.3042],\n",
       "         [ 0.8340, -2.4160, -2.7832,  ...,  0.0782,  0.4045,  0.5225]]],\n",
       "       device='cuda:0', dtype=torch.float16, grad_fn=<MulBackward0>)"
      ]
     },
     "execution_count": 110,
     "metadata": {},
     "output_type": "execute_result"
    }
   ],
   "source": [
    "last_hidden_state = outputs[\"last_hidden_state\"]\n",
    "print(last_hidden_state.shape)\n",
    "last_hidden_state"
   ]
  },
  {
   "cell_type": "code",
   "execution_count": 111,
   "metadata": {},
   "outputs": [
    {
     "name": "stdout",
     "output_type": "stream",
     "text": [
      "<class 'torch.Tensor'>\n"
     ]
    },
    {
     "data": {
      "text/plain": [
       "tensor([[[-86.4375, -82.7500, -75.1875,  ..., -83.2500, -83.6875, -84.0625],\n",
       "         [-81.6250, -78.5000, -70.3750,  ..., -80.6250, -80.2500, -79.1250],\n",
       "         [-84.3125, -78.5000, -73.7500,  ..., -81.5625, -81.4375, -81.3750],\n",
       "         ...,\n",
       "         [-70.0625, -68.0625, -57.2500,  ..., -71.3750, -66.6250, -66.7500],\n",
       "         [-79.5625, -77.9375, -66.6875,  ..., -77.6875, -77.1250, -74.8750],\n",
       "         [-82.5625, -82.7500, -71.1875,  ..., -81.5625, -81.1250, -80.6875]]],\n",
       "       device='cuda:0', dtype=torch.float16, grad_fn=<UnsafeViewBackward0>)"
      ]
     },
     "execution_count": 111,
     "metadata": {},
     "output_type": "execute_result"
    }
   ],
   "source": [
    "logits = model.lm_head(last_hidden_state)\n",
    "print(type(logits))\n",
    "logits"
   ]
  },
  {
   "cell_type": "code",
   "execution_count": 112,
   "metadata": {},
   "outputs": [
    {
     "data": {
      "text/plain": [
       "tensor([358], device='cuda:0')"
      ]
     },
     "execution_count": 112,
     "metadata": {},
     "output_type": "execute_result"
    }
   ],
   "source": [
    "# 这里只要选最后一个位置就行\n",
    "logits = logits[:, -1, :]\n",
    "torch.argmax(logits, dim=-1)"
   ]
  },
  {
   "cell_type": "markdown",
   "metadata": {},
   "source": [
    "# 每个模块的输入和输出"
   ]
  },
  {
   "cell_type": "code",
   "execution_count": 113,
   "metadata": {},
   "outputs": [
    {
     "name": "stdout",
     "output_type": "stream",
     "text": [
      "{'input_ids': tensor([[    1,   306,  1219,   339, 17336,  1518,   940]], device='cuda:0'), 'attention_mask': tensor([[1, 1, 1, 1, 1, 1, 1]], device='cuda:0')}\n",
      "<class 'transformers.tokenization_utils_base.BatchEncoding'>\n",
      "torch.Size([1, 7])\n"
     ]
    }
   ],
   "source": [
    "prompt = \"I love beijing , because\"\n",
    "inputs = tokenizer(prompt, return_tensors=\"pt\").to(model.device)\n",
    "print(inputs)\n",
    "print(type(inputs))\n",
    "print(inputs[\"input_ids\"].shape)"
   ]
  },
  {
   "cell_type": "code",
   "execution_count": 114,
   "metadata": {},
   "outputs": [],
   "source": [
    "from transformers import  LlamaModel\n",
    "model: LlamaForCausalLM\n",
    "model.model: LlamaModel"
   ]
  },
  {
   "cell_type": "code",
   "execution_count": 146,
   "metadata": {},
   "outputs": [
    {
     "name": "stdout",
     "output_type": "stream",
     "text": [
      "torch.Size([1, 7, 3200])\n"
     ]
    },
    {
     "data": {
      "text/plain": [
       "tensor([[[ 1.0315e-02,  2.8687e-03,  5.9128e-04,  ..., -1.8845e-03,\n",
       "          -9.2983e-05, -3.0060e-03],\n",
       "         [-1.0986e-02, -5.0735e-04,  3.3875e-03,  ...,  2.3346e-03,\n",
       "           9.3994e-03, -1.6602e-02],\n",
       "         [-1.6724e-02,  3.0212e-03, -1.4099e-02,  ...,  9.5749e-04,\n",
       "          -1.5137e-02,  2.4536e-02],\n",
       "         ...,\n",
       "         [ 2.5513e-02,  7.2021e-03,  8.4839e-03,  ...,  3.2654e-03,\n",
       "           7.2937e-03, -1.6602e-02],\n",
       "         [ 6.5002e-03, -6.9275e-03, -1.2451e-02,  ..., -1.9653e-02,\n",
       "           1.1658e-02,  2.1606e-02],\n",
       "         [-5.1880e-03, -1.3367e-02, -5.5695e-04,  ...,  3.3188e-04,\n",
       "           1.8066e-02, -8.9111e-03]]], device='cuda:0', dtype=torch.float16,\n",
       "       grad_fn=<EmbeddingBackward0>)"
      ]
     },
     "execution_count": 146,
     "metadata": {},
     "output_type": "execute_result"
    }
   ],
   "source": [
    "# 第一个是嵌入层\n",
    "inputs_embeds = model.model.embed_tokens(inputs[\"input_ids\"])\n",
    "# 3200 是指 hidden_size\n",
    "print(inputs_embeds.shape)\n",
    "inputs_embeds"
   ]
  },
  {
   "cell_type": "code",
   "execution_count": 147,
   "metadata": {},
   "outputs": [
    {
     "name": "stdout",
     "output_type": "stream",
     "text": [
      "26\n",
      "<class 'transformers.models.llama.modeling_llama.LlamaDecoderLayer'>\n"
     ]
    }
   ],
   "source": [
    "# 这个模型有 26 层\n",
    "print(len(model.model.layers))\n",
    "print(type(model.model.layers[0]))"
   ]
  },
  {
   "cell_type": "code",
   "execution_count": 148,
   "metadata": {},
   "outputs": [
    {
     "name": "stdout",
     "output_type": "stream",
     "text": [
      "torch.Size([1, 1, 7, 7])\n"
     ]
    },
    {
     "data": {
      "text/plain": [
       "tensor([[[[     0., -65504., -65504., -65504., -65504., -65504., -65504.],\n",
       "          [     0.,      0., -65504., -65504., -65504., -65504., -65504.],\n",
       "          [     0.,      0.,      0., -65504., -65504., -65504., -65504.],\n",
       "          [     0.,      0.,      0.,      0., -65504., -65504., -65504.],\n",
       "          [     0.,      0.,      0.,      0.,      0., -65504., -65504.],\n",
       "          [     0.,      0.,      0.,      0.,      0.,      0., -65504.],\n",
       "          [     0.,      0.,      0.,      0.,      0.,      0.,      0.]]]],\n",
       "       device='cuda:0', dtype=torch.float16)"
      ]
     },
     "execution_count": 148,
     "metadata": {},
     "output_type": "execute_result"
    }
   ],
   "source": [
    "# 计算注意力\n",
    "batch_size, seq_length = inputs[\"input_ids\"].shape\n",
    "past_key_values_length = 0\n",
    "attention_mask = model.model._prepare_decoder_attention_mask(\n",
    "    # attention_mask shape 是 (batch_size, seq_length_with_past)\n",
    "    # 第二个参数是个 shape, (batch_size, seq_length)\n",
    "    # inputs_embeds 的 shape 是 (batch_size, seq_length, hidden_size)\n",
    "    inputs[\"attention_mask\"], (batch_size, seq_length), inputs_embeds, past_key_values_length\n",
    ")\n",
    "print(attention_mask.shape)\n",
    "attention_mask"
   ]
  },
  {
   "cell_type": "code",
   "execution_count": 155,
   "metadata": {},
   "outputs": [
    {
     "name": "stdout",
     "output_type": "stream",
     "text": [
      "torch.Size([1, 7])\n"
     ]
    },
    {
     "data": {
      "text/plain": [
       "tensor([[0, 1, 2, 3, 4, 5, 6]], device='cuda:0')"
      ]
     },
     "execution_count": 155,
     "metadata": {},
     "output_type": "execute_result"
    }
   ],
   "source": [
    "# 自动构建 position_ids\n",
    "device = inputs[\"input_ids\"].device\n",
    "# shape 是 (seq_length)\n",
    "position_ids = torch.arange(\n",
    "    past_key_values_length, seq_length + past_key_values_length, dtype=torch.long, device=device\n",
    ")\n",
    "# shape 是 (1, seq_length). 不理解为啥是这样的shape\n",
    "position_ids = position_ids.unsqueeze(0).view(-1, seq_length)\n",
    "\n",
    "print(position_ids.shape)\n",
    "position_ids"
   ]
  },
  {
   "cell_type": "code",
   "execution_count": 156,
   "metadata": {},
   "outputs": [],
   "source": [
    "# 运行单层的结果\n",
    "hidden_states = inputs_embeds\n",
    "\n",
    "decoder_layer = model.model.layers[0]\n",
    "\n",
    "layer_outputs = decoder_layer(\n",
    "    # shape 是 (batch_size, seq_length, hidden_size)\n",
    "    hidden_states,\n",
    "    # shape 是 [bsz, 1, tgt_seq_len, src_seq_len]\n",
    "    attention_mask=attention_mask,\n",
    "    # shape 是 (batch_size, seq_length)\n",
    "    position_ids=position_ids,\n",
    "    # past_key_value=past_key_value,\n",
    "    # output_attentions=output_attentions,\n",
    "    # use_cache=use_cache,\n",
    ")"
   ]
  },
  {
   "cell_type": "code",
   "execution_count": 158,
   "metadata": {},
   "outputs": [
    {
     "name": "stdout",
     "output_type": "stream",
     "text": [
      "1\n",
      "<class 'torch.Tensor'>\n",
      "torch.Size([1, 7, 3200])\n"
     ]
    },
    {
     "data": {
      "text/plain": [
       "tensor([[[ 0.0204, -0.0389,  0.0304,  ...,  0.0071,  0.0104,  0.0036],\n",
       "         [-0.0071, -0.0091,  0.0117,  ...,  0.0131,  0.0099, -0.0246],\n",
       "         [-0.0165,  0.0034, -0.0005,  ...,  0.0078, -0.0153,  0.0342],\n",
       "         ...,\n",
       "         [ 0.0217,  0.0018,  0.0030,  ...,  0.0015,  0.0135, -0.0089],\n",
       "         [ 0.0224, -0.0038, -0.0009,  ..., -0.0361,  0.0062,  0.0368],\n",
       "         [-0.0024, -0.0109,  0.0178,  ...,  0.0022,  0.0270, -0.0027]]],\n",
       "       device='cuda:0', dtype=torch.float16, grad_fn=<AddBackward0>)"
      ]
     },
     "execution_count": 158,
     "metadata": {},
     "output_type": "execute_result"
    }
   ],
   "source": [
    "print(len(layer_outputs))\n",
    "print(type(layer_outputs[0]))\n",
    "print(layer_outputs[0].shape)\n",
    "layer_outputs[0]"
   ]
  },
  {
   "cell_type": "code",
   "execution_count": 159,
   "metadata": {},
   "outputs": [
    {
     "data": {
      "text/plain": [
       "tensor([[[ 2.1504, -1.2461, -1.4385,  ...,  0.6284,  1.7852,  1.2754],\n",
       "         [-0.4331, -2.1855, -1.9160,  ...,  0.7275,  2.0547,  2.2520],\n",
       "         [ 1.9043, -2.2168, -2.3848,  ...,  1.9883,  4.0781,  3.2852],\n",
       "         ...,\n",
       "         [ 0.7256, -0.2314, -0.1514,  ..., -0.6431,  1.5449, -0.3279],\n",
       "         [ 2.1973, -2.3125, -2.2266,  ..., -1.4814,  0.6299,  0.4177],\n",
       "         [ 1.1953, -3.7266, -4.0859,  ...,  0.1150,  0.5615,  0.7354]]],\n",
       "       device='cuda:0', dtype=torch.float16, grad_fn=<AddBackward0>)"
      ]
     },
     "execution_count": 159,
     "metadata": {},
     "output_type": "execute_result"
    }
   ],
   "source": [
    "# 运行所有的层\n",
    "hidden_states = inputs_embeds\n",
    "for layer in model.model.layers:\n",
    "    layer_outputs = layer(\n",
    "        # shape 是 (batch_size, seq_length, hidden_size)\n",
    "        hidden_states,\n",
    "        # shape 是 [bsz, 1, tgt_seq_len, src_seq_len]\n",
    "        attention_mask=attention_mask,\n",
    "        # shape 是 (batch_size, seq_length)\n",
    "        position_ids=position_ids,\n",
    "        # past_key_value=past_key_value,\n",
    "        # output_attentions=output_attentions,\n",
    "        # use_cache=use_cache,\n",
    "    )\n",
    "\n",
    "    # 层的第一个输出是 hidden_states\n",
    "    hidden_states = layer_outputs[0]\n",
    "\n",
    "hidden_states"
   ]
  },
  {
   "cell_type": "code",
   "execution_count": 160,
   "metadata": {},
   "outputs": [
    {
     "data": {
      "text/plain": [
       "tensor([[[ 2.9629, -1.5957, -1.9365,  ...,  0.8457,  2.5410,  1.7910],\n",
       "         [-0.3489, -1.6348, -1.5059,  ...,  0.5723,  1.7080,  1.8477],\n",
       "         [ 1.4912, -1.6123, -1.8242,  ...,  1.5205,  3.3008,  2.6211],\n",
       "         ...,\n",
       "         [ 0.9775, -0.2898, -0.1992,  ..., -0.8467,  2.1504, -0.4502],\n",
       "         [ 1.5713, -1.5361, -1.5537,  ..., -1.0342,  0.4653,  0.3042],\n",
       "         [ 0.8340, -2.4160, -2.7832,  ...,  0.0782,  0.4045,  0.5225]]],\n",
       "       device='cuda:0', dtype=torch.float16, grad_fn=<MulBackward0>)"
      ]
     },
     "execution_count": 160,
     "metadata": {},
     "output_type": "execute_result"
    }
   ],
   "source": [
    "# 经过 norm 层\n",
    "hidden_states = model.model.norm(hidden_states)\n",
    "hidden_states"
   ]
  },
  {
   "cell_type": "code",
   "execution_count": 161,
   "metadata": {},
   "outputs": [
    {
     "name": "stdout",
     "output_type": "stream",
     "text": [
      "torch.Size([1, 7, 32000])\n"
     ]
    },
    {
     "data": {
      "text/plain": [
       "tensor([[[-86.4375, -82.7500, -75.1875,  ..., -83.2500, -83.6875, -84.0625],\n",
       "         [-81.6250, -78.5000, -70.3750,  ..., -80.6250, -80.2500, -79.1250],\n",
       "         [-84.3125, -78.5000, -73.7500,  ..., -81.5625, -81.4375, -81.3750],\n",
       "         ...,\n",
       "         [-70.0625, -68.0625, -57.2500,  ..., -71.3750, -66.6250, -66.7500],\n",
       "         [-79.5625, -77.9375, -66.6875,  ..., -77.6875, -77.1250, -74.8750],\n",
       "         [-82.5625, -82.7500, -71.1875,  ..., -81.5625, -81.1250, -80.6875]]],\n",
       "       device='cuda:0', dtype=torch.float16, grad_fn=<UnsafeViewBackward0>)"
      ]
     },
     "execution_count": 161,
     "metadata": {},
     "output_type": "execute_result"
    }
   ],
   "source": [
    "# 经过 lm_head 层\n",
    "logits = model.lm_head(hidden_states)\n",
    "print(logits.shape)\n",
    "logits"
   ]
  },
  {
   "cell_type": "code",
   "execution_count": 162,
   "metadata": {},
   "outputs": [
    {
     "data": {
      "text/plain": [
       "tensor([358], device='cuda:0')"
      ]
     },
     "execution_count": 162,
     "metadata": {},
     "output_type": "execute_result"
    }
   ],
   "source": [
    "logits = logits[:, -1, :]\n",
    "torch.argmax(logits, dim=-1)"
   ]
  },
  {
   "cell_type": "code",
   "execution_count": null,
   "metadata": {},
   "outputs": [],
   "source": []
  }
 ],
 "metadata": {
  "kernelspec": {
   "display_name": "nlp",
   "language": "python",
   "name": "python3"
  },
  "language_info": {
   "codemirror_mode": {
    "name": "ipython",
    "version": 3
   },
   "file_extension": ".py",
   "mimetype": "text/x-python",
   "name": "python",
   "nbconvert_exporter": "python",
   "pygments_lexer": "ipython3",
   "version": "3.8.12"
  },
  "orig_nbformat": 4
 },
 "nbformat": 4,
 "nbformat_minor": 2
}
